{
 "cells": [
  {
   "cell_type": "markdown",
   "metadata": {},
   "source": [
    "# <center> <img src=\"figs/LogoUFSCar.jpg\" alt=\"Logo UFScar\" width=\"110\" align=\"left\"/>  <br/> <center>Universidade Federal de São Carlos (UFSCar)<br/><font size=\"4\"> Departamento de Computação, campus Sorocaba</center></font>\n",
    "</p>\n",
    "\n",
    "<br/>\n",
    "<font size=\"4\"><center><b>Disciplina: Aprendizado de Máquina</b></center></font>\n",
    "  \n",
    "<font size=\"3\"><center>Prof. Dr. Tiago A. Almeida</center></font>\n",
    "\n",
    "<br/>\n",
    "<br/>\n",
    "\n",
    "<center><i><b>\n",
    "Atenção: não são autorizadas cópias, divulgações ou qualquer tipo de uso deste material sem o consentimento prévio dos autores.\n",
    "</center></i></b>"
   ]
  },
  {
   "cell_type": "markdown",
   "metadata": {},
   "source": [
    "# <center>Exercício - Agrupamento usando o método $k$-médias</center>\n",
    "\n",
    "Neste exercício, você implementará o método $k$-médias e verá como ele agrupa os dados. \n",
    "\n",
    "Antes de começar, é recomendável que você revise os conceitos apresentados em aula.\n",
    "\n",
    "## Instruções\n",
    "Este arquivo contém o código que auxiliará no desenvolvimento do exercício. Você precisará completar as seguintes funções:\n",
    "\n",
    "* <tt>findClosestCentroids()</tt>\n",
    "* <tt>calculateCentroids()</tt>\n",
    "* <tt>calculateCost()</tt>\n",
    "\n",
    "## Parte 1: Encontrando os centróides mais próximos\n",
    "\n",
    "Nessa etapa, deverá ser criada uma função para encontrar os centróides mais próximos."
   ]
  },
  {
   "cell_type": "markdown",
   "metadata": {},
   "source": [
    "Primeiro, vamos carregar os dados do arquivo."
   ]
  },
  {
   "cell_type": "code",
   "execution_count": null,
   "metadata": {},
   "outputs": [],
   "source": [
    "# -*- coding: utf-8 -*-\n",
    "\n",
    "# Caminho dos arquivos\n",
    "FILES_DIRECTORY = \"dados\"\n",
    "\n",
    "import numpy as np # importa a biblioteca usada para trabalhar com vetores e matrizes\n",
    "import pandas as pd # importa a biblioteca usada para trabalhar com dataframes e análise de dados\n",
    "import os #importa a biblioteca para tarefas relacionadas ao sistema operacional\n",
    "import matplotlib.pyplot as plt # biblioteca usada para gerar os gráficos\n",
    "\n",
    "# importa o arquivo e guarda em um dataframe do Pandas\n",
    "df_dataset = pd.read_csv( os.path.join(FILES_DIRECTORY, 'data.csv'), sep=',') "
   ]
  },
  {
   "cell_type": "markdown",
   "metadata": {},
   "source": [
    "Vamos dar uma olhada nas 6 primeiras amostras da base de dados."
   ]
  },
  {
   "cell_type": "code",
   "execution_count": null,
   "metadata": {},
   "outputs": [],
   "source": [
    "# vamos usar a função display para imprimir o dataframe. \n",
    "# Também poderíamos ter usado a função print: print(df_dataset.head(n=6))\n",
    "display(df_dataset.head(n=6))"
   ]
  },
  {
   "cell_type": "markdown",
   "metadata": {},
   "source": [
    "Conforme você pode observar, a base de dados que acabamos de carregar não possui rótulos. Por isso, nós utilizaremos o $k$-médias, um método de aprendizado não supervisionado, para tentar encontrar agrupamentos nos dados.\n",
    "\n",
    "Vamos guardar os dados dentro de uma matriz. Depois, vamos exibir as 5 primeiras linhas da matriz de dados."
   ]
  },
  {
   "cell_type": "code",
   "execution_count": null,
   "metadata": {},
   "outputs": [],
   "source": [
    "# pega os valores do dataframe\n",
    "X = df_dataset.values \n",
    "\n",
    "# imprime as 5 primeiras linhas da matriz X\n",
    "print('X:', X[0:5,:])"
   ]
  },
  {
   "cell_type": "markdown",
   "metadata": {},
   "source": [
    "Vamos criar uma função para plotar os dados."
   ]
  },
  {
   "cell_type": "code",
   "execution_count": null,
   "metadata": {},
   "outputs": [],
   "source": [
    "# função para plotar os dados\n",
    "def visualizarDados(X,Y):\n",
    "    \"\"\"\n",
    "    Função usada para plotar os dados\n",
    "    \"\"\"\n",
    "    \n",
    "    # definindo o tamanho da figura \n",
    "    plt.figure(figsize=(10,6))\n",
    "    \n",
    "    # plota os dados\n",
    "    plt.scatter( X, Y, marker='x', label = 'Dados', color='blue', s=90) \n",
    "    \n",
    "    # define os nomes do eixo x e do eixo y\n",
    "    plt.xlabel(r'F1',fontsize='medium') \n",
    "    plt.ylabel(r'F2',fontsize='medium') \n",
    "\n",
    "    #define o título do gráfico\n",
    "    plt.title('Plot 2D da base de dados', fontsize='x-large')\n",
    "    \n",
    "# chamando a função que plota os dados   \n",
    "visualizarDados(X[:,0],X[:,1])\n",
    "plt.show()"
   ]
  },
  {
   "cell_type": "markdown",
   "metadata": {},
   "source": [
    "Agora, você precisa completar a função <tt>findClosestCentroids()</tt>.\n",
    "\n",
    "Dado um conjunto de $k$ centróides, a função <tt>findClosestCentroids()</tt> será usada para encontrar quais dos centróides estão mais próximos de cada uma das amostras da base de dados. Para isso, para cada amostra, você deve calcular a distância Euclidiana entre ela e cada um dos centróides. Depois, basta selecionar o centróide com a menor distância como representante da amostra. \n",
    "\n",
    "Essa função irá retornar um vetor com $m$ elementos, onde $m$ é a quantidade de amostras na base de dados. A posição $i$ desse vetor, deve conter o índice do centróide mais próximo à amostra $i$. Ela também deve retornar um vetor com a distância de cada amostra para o centroide mais próximo dela.    \n",
    "\n",
    "**Observações**\n",
    "\n",
    "* A distância Euclidiana é calculada usando a seguinte equação: $dist(x,y) = \\sqrt{\\sum_{i=1}^{n} (x_i-y_i)^2}$, onde $x$ e $y$ são vetores que possuem a mesma dimensão ($n$).\n",
    "\n",
    "* no Python, para calcular o quadrado dos valores de um vetor A, basta usar ```A**2```.\n",
    "* no Python, para calcular o raiz quadrada dos valores de um vetor A, basta usar ```np.sqrt(A)```.\n",
    "* no Python, a função `np.min()` retorna o valor mínimo de um vetor e a função `np.argmin()` retorna o índice do valor mínimo de um vetor."
   ]
  },
  {
   "cell_type": "code",
   "execution_count": null,
   "metadata": {},
   "outputs": [],
   "source": [
    "def findClosestCentroids(X, centroids):\n",
    "    \"\"\"\n",
    "    Calcula o centróide mais próximo de cada um dos exemplos \n",
    "    \n",
    "    Parâmetros:\n",
    "    -----------\n",
    "    X: é uma matriz, onde cada linha representa um exemplo do problema avaliado\n",
    "    \n",
    "    centroids: é uma matriz, onde cada linha representa um centróide\n",
    "    \n",
    "    Saída:        \n",
    "    dist: um vetor que contem a distancia entre cada objeto e o centróide mais próximo\n",
    "    \n",
    "    idx: um vetor que contém o índice do centróide mais próximo de cada objeto\n",
    "    \"\"\"\n",
    "    \n",
    "    n = X.shape[0] # quantidade de amostras\n",
    "    \n",
    "    # inicializa o valor de K\n",
    "    K = centroids.shape[0]\n",
    "\n",
    "    # você deverá retornar as seguintes variáveis corretamente    \n",
    "    dist = np.zeros( X.shape[0] ) # guarda a distancia de cada amostra para seu centroide \n",
    "    idx = np.zeros( X.shape[0], dtype=int ) # guarda os indices dos centroides de cada amostra\n",
    "\n",
    "    ########################## COMPLETE O CÓDIGO AQUI  ########################\n",
    "    # Instruções: para cada exemplo, encontre o centróide mais próximo a ele e\n",
    "    #             guarde o índice desse centróide na variável idx, na posição apropriada.\n",
    "    #             Basicamente, idx[i] deve conter o índice do centróide mais\n",
    "    #             próximo do exemplo i. Portanto, o valor a ser guardado deve \n",
    "    #             estar no intervalo 1..K, onde K é o número de centróides.\n",
    "    #\n",
    "    # Obs: você pode usar um laço for, percorrendo cada exemplo para completar a tarefa.\n",
    "\n",
    "\n",
    "   \n",
    "\n",
    "\n",
    "\n",
    "\n",
    "\n",
    "\n",
    "    \n",
    "\n",
    "\n",
    "\n",
    "\n",
    "    ##########################################################################\n",
    "            \n",
    "    return dist, idx\n",
    "\n",
    "\n",
    "\n",
    "# define uma quantidade de centróides\n",
    "K = 3\n",
    "\n",
    "# criar os k centróides iniciais\n",
    "initial_centroids = np.array( [[3,3],[6,2],[8,5]] )\n",
    "\n",
    "dist, idx = findClosestCentroids(X, initial_centroids)\n",
    "\n",
    "print('Os centróides mais próximos às 4 primeiras amostras da base de dados:')\n",
    "print(idx[0:4])\n",
    "print('\\nOs centróides mais próximos às 4 primeiras amostras deveriam ser: \\n[0, 2, 1, 0]\\n')"
   ]
  },
  {
   "cell_type": "markdown",
   "metadata": {},
   "source": [
    "## Parte 2: Calculando as médias\n",
    "\n",
    "Depois de ter implementado a função para encontrar os centróides mais próximos, você precisa completar a função <tt>calculateCentroids()</tt>. \n",
    "\n",
    "A função <tt>calculateCentroids()</tt> irá retornar novos centróides com base na média dos dados pertencentes a cada um dos centróides atuais. "
   ]
  },
  {
   "cell_type": "code",
   "execution_count": null,
   "metadata": {},
   "outputs": [],
   "source": [
    "def calculateCentroids(X, idx, K):\n",
    "    \"\"\"\n",
    "    Retorna os novos centróides calculando a média das amostras de cada \n",
    "    centróide atual. \n",
    "    \n",
    "    Esta função deve retornar uma matriz de centroides, onde cada linha\n",
    "    representa um centróide, assim como um vetor contendo a quantidade de \n",
    "    amostras associadas a cada centroide\n",
    "    \n",
    "    Parâmetros:\n",
    "      X   - é a base de dados, onde cada linha representa uma amostra.\n",
    "      idx - é um vetor onde cada elemento possui valor entre [0..K]. O elemento\n",
    "            de índice $i$ representa o índice do centróide mais próximo a i.\n",
    "      K   - o número de centróides\n",
    "            \n",
    "    Saída:        \n",
    "      centroids: uma matriz em que cada linha corresponde a um centróide\n",
    "    \n",
    "      num_samples: um vetor de tamanho K contendo a quantidade de amostras para cada centróide\n",
    "    \"\"\"\n",
    "    \n",
    "    # varíaveis úteis\n",
    "    m, n = X.shape # quantidade de amostras e número de atributos\n",
    "\n",
    "    # você precisa retornar as seguintes variaveis corretamente\n",
    "    centroids = np.zeros( [K, n] )\n",
    "    num_samples = np.zeros(K)\n",
    "    \n",
    "    ########################## COMPLETE O CÓDIGO AQUI  ########################\n",
    "    # Intruções: para cada centróide, calcule as médias de todas as amostras\n",
    "    #            que pertencem a ele. Portanto, a linha i da matriz de\n",
    "    #            centroides (centroides[i, :]) deve conter a média dos dados\n",
    "    #            pertencentes ao centróide i.\n",
    "    #\n",
    "    # Dica: você pode usar um laço de repetição percorrendo cada exemplo ou cada centróide \n",
    "    #        para calcular os novos centroides.\n",
    "\n",
    "\n",
    "    \n",
    "\n",
    "\n",
    "\n",
    "\n",
    "\n",
    "\n",
    "\n",
    "\n",
    "    \n",
    "    \n",
    "\n",
    "    ##########################################################################\n",
    "\n",
    "    return centroids, num_samples\n",
    "\n",
    "# chama a função\n",
    "centroids, num_samples = calculateCentroids(X, idx, K)\n",
    "\n",
    "print('Novos centróides calculados a partir dos K centróides iniciais')\n",
    "print(centroids)\n",
    "print('Quantidade de amostras por centróide')\n",
    "print(num_samples)\n",
    "\n",
    "print('\\nOs centróides deveriam ser:')\n",
    "print('[ 2.42830111 3.15792418 ]')\n",
    "print('[ 5.81350331 2.63365645 ]')\n",
    "print('[ 7.11938687 3.6166844  ]\\n')"
   ]
  },
  {
   "cell_type": "markdown",
   "metadata": {},
   "source": [
    "## Parte 3: Agrupamento usando o $k$-Médias\n",
    "\n",
    "Após ter implementado as funções <tt>calculateCentroids</tt> e <tt>findClosestCentroids</tt>, você possui todas as ferramentas necessárias para executar o método $k$-médias.\n",
    "\n",
    "Primeiro, vamos definir algumas configurações importantes."
   ]
  },
  {
   "cell_type": "code",
   "execution_count": null,
   "metadata": {},
   "outputs": [],
   "source": [
    "# Parâmetros do K-médias <<< VOCÊ PODE ALTERAR ESSES VALORES >>>\n",
    "\n",
    "K = 3 # quantidade de centróides\n",
    "\n",
    "max_iters = 10 # máximo de iterações que serão executadas\n",
    "\n",
    "# Para facilitar, vamos criar manualmente os centróides \n",
    "# iniciais. Porém, na prática, os centróides iniciais devem ser\n",
    "# gerados automaticamente. Uma das formas de fazer isso é \n",
    "# escolhendo aleatoriamente K amostras para serem os \n",
    "# K centróides iniciais.\n",
    "initial_centroids = np.array( [[3,3],[6,2],[8,5]] )"
   ]
  },
  {
   "cell_type": "markdown",
   "metadata": {},
   "source": [
    "Agora, podemos rodar o $k$-Médias."
   ]
  },
  {
   "cell_type": "code",
   "execution_count": null,
   "metadata": {},
   "outputs": [],
   "source": [
    "def executa_kmedias(X, initial_centroids, max_iters, saveHistory = False):\n",
    "    '''\n",
    "    Roda o método K-médias sobre a base de dados X, onde cada linha de X\n",
    "    é uma amostra.\n",
    "    \n",
    "    Esta função deve retornar os centróides encontrados na última iteração.\n",
    "    Ela deve retornar também o vetor idx, onde cada elemento possui valor \n",
    "    entre [0..K]. O elemento de índice $i$ representa o índice do centróide\n",
    "    mais próximo do dado i.\n",
    "    \n",
    "    Parâmetros:\n",
    "       X                 - é a base de dados, onde cada linha representa uma amostra.\n",
    "       initial_centroids - é uma matriz de centróides, onde cada linha representa\n",
    "                           um centróide.\n",
    "       max_iters         - é o máximo de iterações para o método               \n",
    "    '''\n",
    "\n",
    "    #  inicializa alguns parâmetros\n",
    "    \n",
    "    m, n = X.shape # m é o número de amostras, n é o número de atributos\n",
    "    \n",
    "    # inicializa K com o número de centróides que é igual ao \n",
    "    # ao número de linhas da matriz initial_centroids\n",
    "    K = initial_centroids.shape[0]\n",
    "    \n",
    "    centroids = initial_centroids # inicializa a matriz de centroides\n",
    "    previous_centroids = centroids  # inicializa a matriz que vai guardar os centroides\n",
    "    \n",
    "    # inicializa o vetor que irá guardar o índice do centróide mais próximo de cada amostra.\n",
    "    idx = np.zeros( m ) \n",
    "    \n",
    "    if saveHistory:\n",
    "        # inicializa uma variável do tipo lista que irá guardar a matriz de centróides \n",
    "        # e o vetor de índices dos centróides mais próximos obtidos em cada interação\n",
    "        history = [] \n",
    "    \n",
    "    #  executa o K-médias\n",
    "    for i in range(max_iters):\n",
    "        \n",
    "        # imprime o número da iteração atual\n",
    "        print('K-Médias - Iteração %d/%d' %(i+1, max_iters))\n",
    "    \n",
    "        # para cada amostra de X, encontra o centróide mais próximo\n",
    "        dist, idx = findClosestCentroids(X, centroids)\n",
    "\n",
    "        if saveHistory:\n",
    "            # salva o histórico\n",
    "            history.append({'centroids': centroids, 'idx': idx})\n",
    "            \n",
    "        # dada a lista de centróides mais próximos de cada amostra\n",
    "        # calcula o novo centroide.\n",
    "        centroids, num_samples = calculateCentroids(X, idx, K)\n",
    "        \n",
    "    # encontre o centroide final mais proximo de cada amostra\n",
    "    dist, idx = findClosestCentroids(X, centroids)\n",
    "    \n",
    "    if saveHistory:\n",
    "        return centroids, idx, dist, history\n",
    "    else:\n",
    "        return centroids, idx, dist\n",
    "\n",
    "centroids, idx, dist, history = executa_kmedias(X, initial_centroids, max_iters, saveHistory = True)\n",
    "print('\\nK-médias finalizado.\\n\\n')"
   ]
  },
  {
   "cell_type": "markdown",
   "metadata": {},
   "source": [
    "Vamos plotar os centróides obtidos em cada iteração do K-médias."
   ]
  },
  {
   "cell_type": "code",
   "execution_count": null,
   "metadata": {},
   "outputs": [],
   "source": [
    "#criando a função para plotar os dados\n",
    "def visualizarDados_centroids(X, centroids, idx, history):\n",
    "    \n",
    "    #definindo o tamanho da figura \n",
    "    plt.figure(figsize=(15,12))\n",
    "    \n",
    "    lcolors = ['b', 'g', 'r', 'c', 'm', 'y', 'w']\n",
    "    \n",
    "    for i in range( centroids.shape[0] ):\n",
    "        \n",
    "        # plota os dados\n",
    "        plt.scatter( X[idx==i,0], X[idx==i,1], marker='.', label = 'Dados', color=lcolors[i], s=50) \n",
    "   \n",
    "    for j in range( len(history) ):\n",
    "        \n",
    "        for i in range( centroids.shape[0] ):\n",
    "            \n",
    "            if j==len(history)-1:\n",
    "                # plota o centroide final \n",
    "                plt.scatter( history[j]['centroids'][i,0], history[j]['centroids'][i,1], marker='x', color='black', s=150, lw = 3) \n",
    "            else:\n",
    "                plt.scatter( history[j]['centroids'][i,0], history[j]['centroids'][i,1], marker='x', color='black', s=90) \n",
    "\n",
    "            if j>0:\n",
    "                # plota uma linha ligando os centroides\n",
    "                plt.plot( [history[j-1]['centroids'][i,0], history[j]['centroids'][i,0]], [history[j-1]['centroids'][i,1], history[j]['centroids'][i,1]], color='gray', linestyle='-.')  \n",
    "        \n",
    "    plt.show()\n",
    "    \n",
    "# chama a função que plota os dados   \n",
    "visualizarDados_centroids(X, initial_centroids, idx, history)"
   ]
  },
  {
   "cell_type": "markdown",
   "metadata": {},
   "source": [
    "Por fim, você deve calcular o custo. O custo do agrupamento obtido pelo K-médias pode ser calculado pela média da soma do quadrado das distâncias de cada ponto para o seu centróide, o que pode ser representado pela seguinte equação: $$J = \\frac{1}{m} \\sum_{i=1}^{m} \\Vert x^{(i)} - \\mu_{c^{(i)}} \\|^2 $$"
   ]
  },
  {
   "cell_type": "code",
   "execution_count": null,
   "metadata": {},
   "outputs": [],
   "source": [
    "def calculateCost(dist):\n",
    "    \"\"\"\n",
    "    Calcula o custo do agrupamento obtido\n",
    "    \n",
    "    Parâmetro:\n",
    "    -----------\n",
    "    dist: um vetor que contem a distancia entre cada objeto e o centróide mais próximo\n",
    "    \n",
    "    Saída:\n",
    "    custo: é o valor do custo do agrupamento\n",
    "    \"\"\"\n",
    "    \n",
    "    m = len(dist) # numero de amostras\n",
    "\n",
    "    # voce precisara retornar o valor da variavel custo\n",
    "    cost = 0 \n",
    "    \n",
    "    ########################## COMPLETE O CÓDIGO AQUI  ########################\n",
    "\n",
    "    \n",
    "\n",
    "\n",
    "\n",
    "\n",
    "\n",
    "\n",
    "\n",
    "\n",
    "\n",
    "    \n",
    "    \n",
    "    ##########################################################################\n",
    "    \n",
    "    return cost\n",
    "\n",
    "cost = calculateCost(dist)\n",
    "\n",
    "print('Custo retornado pela funcao: %1.3f' %(cost))\n",
    "\n",
    "print('\\nCusto esperado: 0.889')"
   ]
  },
  {
   "cell_type": "markdown",
   "metadata": {},
   "source": [
    "Para ver o efeito da mudança nos agrupamentos dado o número de centróides, vamos testar diferentes valores para $K$. \n",
    "\n",
    "Quando usamos o K-médias, é importante inicializar os centróides aleatoriamente. Portanto, vamos usar uma função que gere essa versão inicial dos centróides. Depois disso, vamos executar o método K-médias passando os centróides inicializados aleatoriamente como argumento."
   ]
  },
  {
   "cell_type": "code",
   "execution_count": null,
   "metadata": {},
   "outputs": [],
   "source": [
    "def kMeansInitCentroids(X, K):\n",
    "    \"\"\"\n",
    "    Esta função inicializa K centróides para serem usados \n",
    "    pelo método K-Médias na base de dados X\n",
    "    \n",
    "    Parâmetros:\n",
    "       X - matriz que representa a base de dados, onde cada linha é uma amostra \n",
    "       K - número de centróides desejados\n",
    "    \"\"\"\n",
    "    \n",
    "    # gera um vetor com os índices das amostras embaralhados\n",
    "    idx_perm = np.random.permutation( range(X.shape[0]) )\n",
    "    \n",
    "    idx_perm = idx_perm[0:K] # pega apenas os primeiros K índices\n",
    "    \n",
    "    # inicializa os centroides usando os primeiros K índices \n",
    "    # embaralhados das amostras\n",
    "    centroids = X[idx_perm,:]\n",
    "    \n",
    "    return centroids"
   ]
  },
  {
   "cell_type": "markdown",
   "metadata": {},
   "source": [
    "Agora, vamos testar o K-médias para diferentes valores de $k$. "
   ]
  },
  {
   "cell_type": "code",
   "execution_count": null,
   "metadata": {},
   "outputs": [],
   "source": [
    "# valores de k que serao avaliados\n",
    "valores_k = np.array( [1,2,3,4,5,6] )\n",
    "\n",
    "# inicializa os custos\n",
    "custos = np.zeros( len(valores_k) )\n",
    "\n",
    "for i, k in enumerate(valores_k):\n",
    "\n",
    "    print('\\n%s\\nK = %d\\n%s\\n' %(20*'=',i+1,20*'=') )\n",
    "\n",
    "    # inicializa os centroides aleatoriamente\n",
    "    initial_centroids = kMeansInitCentroids(X, k)\n",
    "\n",
    "    max_iters = 10\n",
    "\n",
    "    centroids, idx, dist, history = executa_kmedias(X, initial_centroids, max_iters, saveHistory = True)\n",
    "\n",
    "    custos[i] = calculateCost(dist)\n",
    "\n",
    "    print('\\nCusto para k=%d: %1.3f\\n' %(k, custos[i]))\n",
    "\n",
    "    visualizarDados_centroids(X, initial_centroids, idx, history)"
   ]
  },
  {
   "cell_type": "markdown",
   "metadata": {},
   "source": [
    "Vamos plotar os custos. "
   ]
  },
  {
   "cell_type": "code",
   "execution_count": null,
   "metadata": {},
   "outputs": [],
   "source": [
    "#definindo o tamanho da figura \n",
    "plt.figure(figsize=(8,8))\n",
    "\n",
    "plt.plot(valores_k, custos, marker='o')\n",
    "\n",
    "for i in range( len(custos) ):\n",
    "    plt.annotate('%1.2f' %custos[i],xy=(valores_k[i]+0.05,custos[i]+0.05), fontsize='large')\n",
    "\n",
    "xmin, xmax = plt.xlim()   # returna o xlim atual\n",
    "plt.xlim([xmin,xmax+0.2]) # seta o xlim \n",
    "\n",
    "plt.xlabel('K (qtd. de centroides)', fontsize='large') \n",
    "plt.ylabel('Custo', fontsize='large')  \n",
    "\n",
    "plt.show()"
   ]
  },
  {
   "cell_type": "markdown",
   "metadata": {},
   "source": [
    "# Parte 4: Usando o $k$-Médias para agrupar os pixels de uma imagem\n",
    "\n",
    "Nesta parte do trabalho, você irá usar o $k$-médias para compactar uma imagem, isto é, representá-la usando um número menor de cores. \n",
    "\n",
    "Cada pixel da imagem será uma amostra da nossa base de dados. Cada pixel será representado por três valores que variam entre 0 e 255. O primeiro valor representa a intensidade da cor vermelha; o segundo é a intensidade da cor verde; e o terceiro é a intensidade da cor azul (RGB). \n",
    "\n",
    "Usando o método $k$-médias, iremos encontrar os agrupamentos das cores dos pixels. Depois, o valor de cada pixel será substituído pelo valor do centróide mais próximo. \n",
    "\n",
    "Primeiro, vamos importar a imagem e exibí-la. "
   ]
  },
  {
   "cell_type": "code",
   "execution_count": null,
   "metadata": {},
   "outputs": [],
   "source": [
    "import imageio # função para ler dados em formato de imagem\n",
    "\n",
    "A = imageio.imread(os.path.join(FILES_DIRECTORY, 'images', 'image1.png'))\n",
    "\n",
    "A = A / 255 # divide por 255 para que todos os valores fiquem entre 0 e 1\n",
    "\n",
    "print('Dimensão inicial: ',  A.shape) # dimensões da matriz de pixels\n",
    "\n",
    "# Muda a dimensão da matriz de imagens para Nx3 onde N = número de pixels.\n",
    "# Cada linha contém os valores de vermelho, verde e azul do pixel.\n",
    "# Esta será a base de dados que será agrupada pelo K-Médias.\n",
    "X = np.reshape(np.ravel(A), (A.shape[0]*A.shape[1], 3)) \n",
    "print('\\nNova dimensão: ',  X.shape)\n",
    "\n",
    "print('\\nValores dos 5 primeiros pixels:')\n",
    "print(X[0:5,:])"
   ]
  },
  {
   "cell_type": "markdown",
   "metadata": {},
   "source": [
    "Agora, vamos plotar os pixels da imagem."
   ]
  },
  {
   "cell_type": "code",
   "execution_count": null,
   "metadata": {},
   "outputs": [],
   "source": [
    "# rotina que plota os pixels\n",
    "from mpl_toolkits.mplot3d import Axes3D\n",
    "\n",
    "fig = plt.figure(figsize=(10,8))\n",
    "ax = fig.add_subplot(111, projection='3d')\n",
    "\n",
    "ax.scatter(X[:,0], X[:,1], X[:,2], marker='.')\n",
    "\n",
    "plt.show()"
   ]
  },
  {
   "cell_type": "markdown",
   "metadata": {},
   "source": [
    "Gere os centróides iniciais de maneira aleatória e inicialize os parâmetros."
   ]
  },
  {
   "cell_type": "code",
   "execution_count": null,
   "metadata": {},
   "outputs": [],
   "source": [
    "# tente diferentes valores de k e de max-iters\n",
    "K = 5 # quantidade de centróides\n",
    "max_iters = 10 # quantidade de iterações\n",
    "\n",
    "# inicializa os centroides aleatoriamente\n",
    "initial_centroids = kMeansInitCentroids(X, K)\n",
    "\n",
    "# executa o K-medias\n",
    "centroids, idx, dist = executa_kmedias(X, initial_centroids, max_iters, False)"
   ]
  },
  {
   "cell_type": "markdown",
   "metadata": {},
   "source": [
    "## Parte 5: Comprimindo a imagem\n",
    "\n",
    "Nesta parte do exercício, você usará os agrupamentos do $k$-médias para comprimir uma imagem. Para isso, nós iremos primeiramente encontrar os centróides mais próximos de cada pixel. Depois, vamos substituir cada pixel pelo centróide mais próximo.  "
   ]
  },
  {
   "cell_type": "code",
   "execution_count": null,
   "metadata": {},
   "outputs": [],
   "source": [
    "# Agora vamos mapear amostra da base de dados (pixel) por seu centróide mais próximo.\n",
    "X_recovered = centroids[idx,:]\n",
    "\n",
    "# Vamos restaurar as dimensões originais da matriz de pixels\n",
    "X_recovered = np.reshape( np.ravel(X_recovered), (A.shape[0], A.shape[1], 3) )\n",
    "\n",
    "# Vamos plotar a imagem original\n",
    "import matplotlib.pyplot as plt\n",
    "plt.imshow(A)\n",
    "plt.title('Imagem original')\n",
    "plt.show()\n",
    "\n",
    "# Vamos plotar a imagem compactada\n",
    "plt.imshow(X_recovered)\n",
    "plt.title('Imagem compactada com %d cores.' %K)\n",
    "plt.show()"
   ]
  },
  {
   "cell_type": "markdown",
   "metadata": {},
   "source": [
    "# Parte 6: Comprimindo os frames de um vídeo\n",
    "\n",
    "Nesta parte do trabalho, o K-médias será usado para compactar os frames do vídeo abaixo, usando um número menor de cores. "
   ]
  },
  {
   "cell_type": "code",
   "execution_count": null,
   "metadata": {},
   "outputs": [],
   "source": [
    "from IPython.display import HTML\n",
    "from base64 import b64encode\n",
    "\n",
    "def showVideo(path):\n",
    "\n",
    "    mp4 = open(path,'rb').read()\n",
    "    data_url = \"data:video/mp4;base64,\" + b64encode(mp4).decode()\n",
    "\n",
    "    HTMLstring = \"\"\"\n",
    "        <video width=400 controls>\n",
    "          <source src=\"%s\" type=\"video/mp4\">\n",
    "        </video>\"\"\" % data_url\n",
    "\n",
    "    display( HTML(HTMLstring) )\n",
    "\n",
    "showVideo(os.path.join(FILES_DIRECTORY, 'videos', 'sample6.mp4'))"
   ]
  },
  {
   "cell_type": "markdown",
   "metadata": {},
   "source": [
    "O K-médias será aplicado separadamente em cada frame. Depois disso, os frames do vídeo serão usados para formar um novo vídeo compactado em relação ao número de cores. \n",
    "\n",
    "Para que os scripts abaixo funcionem, é necessário instalar  a biblioteca `imageio-ffmpeg`. Isso pode ser feitos usando um dos seguintes comandos:\n",
    "\n",
    " - `pip install imageio-ffmpeg`\n",
    " - `conda install -c conda-forge imageio-ffmpeg`]\n",
    " \n",
    " No script abaixo, faremos a instalação da biblioteca **imageio-ffmpeg**."
   ]
  },
  {
   "cell_type": "code",
   "execution_count": null,
   "metadata": {},
   "outputs": [],
   "source": [
    "# instala um pacote conda \n",
    "import sys\n",
    "#!conda install --yes --prefix {sys.prefix} -c conda-forge imageio-ffmpeg\n",
    "\n",
    "!{sys.executable} -m pip install imageio-ffmpeg"
   ]
  },
  {
   "cell_type": "markdown",
   "metadata": {},
   "source": [
    "Agora, vamos extrair todos os frames do vídeo."
   ]
  },
  {
   "cell_type": "code",
   "execution_count": null,
   "metadata": {},
   "outputs": [],
   "source": [
    "import matplotlib.pyplot as plt\n",
    "import imageio\n",
    "\n",
    "filename = os.path.join(FILES_DIRECTORY, \"videos\", \"sample6.mp4\")\n",
    "\n",
    "vid = imageio.get_reader(filename,  'ffmpeg')\n",
    "\n",
    "metadata = vid.get_meta_data()\n",
    "print('\\nMetadados do video: ')\n",
    "print(metadata)\n",
    "\n",
    "frames = []\n",
    "for ff in vid.iter_data():\n",
    "\n",
    "    frames.append(ff)\n",
    "\n",
    "print('\\nQuantidade de frames: %d' %len(frames))\n",
    "\n",
    "print('\\nDimensão de cada frame: ',  frames[0].shape)"
   ]
  },
  {
   "cell_type": "markdown",
   "metadata": {},
   "source": [
    "Vamos imprimir os 30 primeiros frames."
   ]
  },
  {
   "cell_type": "code",
   "execution_count": null,
   "metadata": {},
   "outputs": [],
   "source": [
    "for i in range(30):\n",
    "\n",
    "    plt.imshow(frames[i]) \n",
    "\n",
    "    plt.show()"
   ]
  },
  {
   "cell_type": "markdown",
   "metadata": {},
   "source": [
    "Agora, vamos compactar os frames do vídeo usando o método K-médias que implementamos anteriormente."
   ]
  },
  {
   "cell_type": "code",
   "execution_count": null,
   "metadata": {},
   "outputs": [],
   "source": [
    "newFrames = frames.copy()\n",
    "\n",
    "frames_recovered = []\n",
    "for i in range( len(frames) ):\n",
    "\n",
    "    print('\\n==============================================')\n",
    "    print('Frame: %d' %(i+1))\n",
    "    print('==============================================')\n",
    "\n",
    "    newFrames[i] = newFrames[i]/255\n",
    "\n",
    "    print('\\nDimensão: ',  newFrames[i].shape)\n",
    "\n",
    "    # Muda a dimensão da matriz de imagens para Nx3 onde N = número de pixels.\n",
    "    # Cada linha contém os valores de vermelho, verde e azul do pixel.\n",
    "    # Esta será a base de dados X que será usada no K-Médias.\n",
    "    X = np.reshape(np.ravel(newFrames[i]), (newFrames[i].shape[0]*newFrames[i].shape[1], 3)) \n",
    "\n",
    "    print('\\nNova dimensão: ',  X.shape)\n",
    "\n",
    "    # tente diferentes valores de k e de max-iters\n",
    "    K = 5 # quantidade de centróides\n",
    "    max_iters = 5 # quantidade de iterações\n",
    "\n",
    "    # inicializa os centroides aleatoriamente\n",
    "    initial_centroids = kMeansInitCentroids(X, K)\n",
    "\n",
    "    # executa o K-medias\n",
    "    centroids, idx, dist = executa_kmedias(X, initial_centroids, max_iters, False)\n",
    "\n",
    "    # Agora vamos mapear amostra da base de dados (pixel) por seu centróide mais próximo.\n",
    "    X_recovered = centroids[idx,:] \n",
    "\n",
    "    # Vamos restaurar as dimensões originais da matriz de pixels\n",
    "    X_recovered = np.reshape( np.ravel(X_recovered), (frames[i].shape[0], frames[i].shape[1], 3) )  \n",
    "\n",
    "    frames_recovered.append(X_recovered)\n",
    "\n",
    "    # Vamos plotar a imagem compactada\n",
    "    plt.imshow(X_recovered)\n",
    "    plt.title('Imagem compactada com %d cores.' %K)\n",
    "    plt.show()"
   ]
  },
  {
   "cell_type": "markdown",
   "metadata": {},
   "source": [
    "Vamos gerar um novo vídeo com os frames compactados e salvá-lo em um arquivo."
   ]
  },
  {
   "cell_type": "code",
   "execution_count": null,
   "metadata": {},
   "outputs": [],
   "source": [
    "import imageio\n",
    "\n",
    "writer = imageio.get_writer(os.path.join(FILES_DIRECTORY, 'videos', 'sample_kmedias.mp4'), fps=vid.get_meta_data()['fps'])\n",
    "\n",
    "for i in range( len(frames_recovered) ):\n",
    "\n",
    "    frames_recovered[i] = np.nan_to_num(frames_recovered[i]) \n",
    "\n",
    "    writer.append_data( np.uint8(frames_recovered[i]*255) ) \n",
    "\n",
    "writer.close()"
   ]
  },
  {
   "cell_type": "markdown",
   "metadata": {},
   "source": [
    "Vamos ver o vídeo original e o compactado."
   ]
  },
  {
   "cell_type": "code",
   "execution_count": null,
   "metadata": {},
   "outputs": [],
   "source": [
    "print('Video original')\n",
    "showVideo(os.path.join(FILES_DIRECTORY, 'videos', 'sample6.mp4'))\n",
    "\n",
    "print('Video com os frames compactados')\n",
    "showVideo(os.path.join(FILES_DIRECTORY, 'videos', 'sample_kmedias.mp4'))    "
   ]
  }
 ],
 "metadata": {
  "kernelspec": {
   "display_name": "Python 3 (ipykernel)",
   "language": "python",
   "name": "python3"
  },
  "language_info": {
   "codemirror_mode": {
    "name": "ipython",
    "version": 3
   },
   "file_extension": ".py",
   "mimetype": "text/x-python",
   "name": "python",
   "nbconvert_exporter": "python",
   "pygments_lexer": "ipython3",
   "version": "3.11.5"
  }
 },
 "nbformat": 4,
 "nbformat_minor": 4
}
