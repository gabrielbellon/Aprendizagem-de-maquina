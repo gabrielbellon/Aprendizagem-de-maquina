{
 "cells": [
  {
   "cell_type": "markdown",
   "metadata": {},
   "source": [
    "# <center> <img src=\"figs/LogoUFSCar.jpg\" alt=\"Logo UFScar\" width=\"110\" align=\"left\"/>  <br/> <center>Universidade Federal de São Carlos (UFSCar)<br/><font size=\"4\"> Departamento de Computação, campus Sorocaba</center></font>\n",
    "</p>\n",
    "\n",
    "<br/>\n",
    "<font size=\"4\"><center><b>Disciplina: Aprendizado de Máquina</b></center></font>\n",
    "  \n",
    "<font size=\"3\"><center>Prof. Dr. Tiago A. Almeida</center></font>\n",
    "\n",
    "<br/>\n",
    "<br/>\n",
    "\n",
    "<center><i><b>\n",
    "Atenção: não são autorizadas cópias, divulgações ou qualquer tipo de uso deste material sem o consentimento prévio dos autores.\n",
    "</center></i></b>"
   ]
  },
  {
   "cell_type": "markdown",
   "metadata": {},
   "source": [
    "# <center>Exercício - Introdução ao Python</center>\n",
    "\n",
    "Neste exercício, são apresentados alguns recursos básicos do Python que frequentemente são necessários nos projetos de Aprendizado de Máquina. \n",
    "\n",
    "Espera-se que, ao término deste notebook, você saiba realizar operações vetoriais com Numpy e manipular bases de dados com Pandas."
   ]
  },
  {
   "cell_type": "markdown",
   "metadata": {},
   "source": [
    "# <center>**Numpy**: vetores e matrizes</center>\n",
    "A biblioteca `numpy` permite a criação, manipulação e aplicação de operações matemáticas sobre vetores e matrizes. Ao longo da disciplina, recomenda-se a constante consulta da documentação da biblioteca, disponível [aqui](https://numpy.org/doc/stable/), que possui muitas funções interessantes e exemplos de uso.\n",
    "\n",
    "Primeiro, você deve importar a biblioteca, antes de usar suas funções."
   ]
  },
  {
   "cell_type": "code",
   "execution_count": 2,
   "metadata": {
    "scrolled": true
   },
   "outputs": [],
   "source": [
    "# -*- coding: utf-8 -*-\n",
    "import numpy as np # importa a biblioteca usada para trabalhar com vetores e matrizes."
   ]
  },
  {
   "cell_type": "markdown",
   "metadata": {},
   "source": [
    "## Criando vetores\n",
    "\n",
    "A criação de vetores e matrizes com valores predefinidos pode ser feito através da função `np.array`.\n",
    "\n",
    "Primeiro, vamos criar um vetor com os seguintes valores: $[1,2,3,4,5]$:"
   ]
  },
  {
   "cell_type": "code",
   "execution_count": null,
   "metadata": {},
   "outputs": [],
   "source": [
    "if __name__ == '__main__':\n",
    "    # criando um vetor\n",
    "    vet = np.array( [1,2,3,4,5] )\n",
    "\n",
    "    # você pode imprimir usando a função print ou a função display\n",
    "    print(vet)\n",
    "    display(vet)"
   ]
  },
  {
   "cell_type": "markdown",
   "metadata": {},
   "source": [
    "A biblioteca disponibiliza diversas funções para criação de vetores com elementos padronizados. Alguns exemplos são:\n",
    "\n",
    "* `np.arange(M, N)`: cria um vetor com valor de $M$ a $(N-1)$;\n",
    "* `np.zeros(N)`: cria um vetor de 0s com tamanho $N$;\n",
    "* `np.ones(N)`: cria um vetor de 1s com tamanho $N$;\n",
    "* `np.repeat(E, N)`: cria um vetor com tamanho $N$ e conteúdo $E$;\n",
    "* `np.random.rand(N)`: cria um vetor com tamanho $N$ e conteúdo aleatório entre $(0,1)$\n",
    "\n",
    "Vamos fazer alguns exemplos de vetores para testar as funções acima:"
   ]
  },
  {
   "cell_type": "code",
   "execution_count": null,
   "metadata": {},
   "outputs": [],
   "source": [
    "if __name__ == '__main__':\n",
    "    # criando um vetor de 0 a 8\n",
    "    vet_seq1 = np.arange(9)\n",
    "    print('Vetor sequencial de 0 a 8:\\t', vet_seq1)\n",
    "\n",
    "    # criando um vetor de 5 a 10\n",
    "    vet_seq2 = np.arange(5, 11)\n",
    "    print('Vetor sequencial de 5 a 10:\\t', vet_seq2)\n",
    "\n",
    "    # criando um vetor de 0s de tamanho 5\n",
    "    vet_zeros = np.zeros(5)\n",
    "    print('Vetor de zeros:\\t\\t\\t', vet_zeros)\n",
    "\n",
    "    # criando um vetor de 1s de tamanho 3\n",
    "    vet_ones = np.ones(3)\n",
    "    print('Vetor de uns:\\t\\t\\t', vet_ones)\n",
    "\n",
    "    # criando um vetor de 8s de tamanho 4\n",
    "    vet_repeat = np.repeat(8, 4)\n",
    "    print('Vetor de elementos repetidos:\\t', vet_repeat)\n",
    "\n",
    "    # criando um vetor aleatório de tamanho 5\n",
    "    vet_rand = np.random.rand(5)\n",
    "    print('Vetor aleatorio:\\t\\t', vet_rand)"
   ]
  },
  {
   "cell_type": "markdown",
   "metadata": {},
   "source": [
    "Todas estas funções ainda possuem diversos parâmetros para personalizarmos os elementos do vetor que será criado. Como exemplo, é possível usar `np.arange(M, N, S)` para criar vetores sequenciais de `M` a `(N-1)`variando de `S` em `S`.\n",
    "\n",
    "Para aprender mais sobre as demais funções, recomenda-se o acesso a documentação da biblioteca."
   ]
  },
  {
   "cell_type": "code",
   "execution_count": null,
   "metadata": {},
   "outputs": [],
   "source": [
    "if __name__ == '__main__':\n",
    "    vet_seq1 = np.arange(5,21,2)\n",
    "    print('Sequência de 5 até 20, variando de 2 em 2:', vet_seq1)\n",
    "\n",
    "    vet_seq1 = np.arange(5,21,5)\n",
    "    print('Sequência de 5 até 20, variando de 5 em 5:', vet_seq1)\n",
    "\n",
    "    vet_seq1 = np.arange(5,21,4)\n",
    "    print('Sequência de 5 até 20, variando de 4 em 4:', vet_seq1)"
   ]
  },
  {
   "cell_type": "markdown",
   "metadata": {},
   "source": [
    "Vetores podem ser usados em laços de repetição. Como exemplo, vamos imprimir todos os valores entre 2 e 10 usando um laço de repetição `for`:"
   ]
  },
  {
   "cell_type": "code",
   "execution_count": null,
   "metadata": {},
   "outputs": [],
   "source": [
    "if __name__ == '__main__':\n",
    "    for i in np.arange(2,11):\n",
    "        print('%d' %i)"
   ]
  },
  {
   "cell_type": "markdown",
   "metadata": {},
   "source": [
    "## Criando matrizes\n",
    "\n",
    "Para criar matrizes em numpy, basta criar um vetor com múltiplas dimensões, usando `np.array`.\n",
    "\n",
    "_Obs.: embora a biblioteca possua uma classe específica para matrizes (`np.matrix`), recomenda-se para a disciplina o uso de vetores (`np.array`). Em numpy, vetores são N-dimensionais, sendo mais flexíveis que matrizes, que são estritamente bi-dimensionais. Como precisaremos dessa particularidade em exercícios futuros, é importante que você domine operações sobre vetores._\n",
    "\n",
    "Vamos criar uma matriz com os valores: $\n",
    "  \\begin{bmatrix}\n",
    "    1 & 2 & 3 & 4 & 5 \\\\\n",
    "    6 & 7 & 8 & 9 & 10\n",
    "  \\end{bmatrix}$"
   ]
  },
  {
   "cell_type": "code",
   "execution_count": null,
   "metadata": {},
   "outputs": [],
   "source": [
    "if __name__ == '__main__':\n",
    "    # cria uma matriz\n",
    "    A = np.array( [[1,2,3,4,5],[6,7,8,9,10]] )\n",
    "\n",
    "    print(A)"
   ]
  },
  {
   "cell_type": "markdown",
   "metadata": {},
   "source": [
    "Assim como feito com vetores uni-dimensionais, nós também podemos criar uma matriz de valores zero e uma matriz de valores um:"
   ]
  },
  {
   "cell_type": "code",
   "execution_count": null,
   "metadata": {},
   "outputs": [],
   "source": [
    "if __name__ == '__main__':\n",
    "    # cria um array de valores zeros com dimensão 2x10\n",
    "    array_zeros = np.zeros( [2,10] )\n",
    "\n",
    "    # cria um array de valores um com dimensão 2x10\n",
    "    array_ones = np.ones( [2,10] )\n",
    "\n",
    "    print('Vetor de zeros: ')\n",
    "    print(array_zeros)\n",
    "\n",
    "    print('\\nVetor de valores um: ')\n",
    "    print(array_ones)"
   ]
  },
  {
   "cell_type": "markdown",
   "metadata": {},
   "source": [
    "Outras funções apresentadas, como `np.repeat` e `np.random.rand` também permitem a criação de matrizes. Para aprender mais sobre isso, consulte a documentação da biblioteca."
   ]
  },
  {
   "cell_type": "markdown",
   "metadata": {},
   "source": [
    "## Selecionando elementos de vetores e matrizes\n",
    "\n",
    "Há multiplas maneiras de selecionar elementos em vetores em python. Podemos selecionar um único elemento, utilizando o índice desse elemento, ou um subconjunto de elementos, operação chamada de _list slicing_.\n",
    "\n",
    "Suponha que temos um vetor $[a,b,c,d,e,f,g,h,i]$. Nós podemos selecionar elementos e subconjuntos de elementos desse vetor conforme mostrado abaixo. \n",
    "\n",
    "**Atente-se**: em Python, o índice começa a contar em 0."
   ]
  },
  {
   "cell_type": "code",
   "execution_count": null,
   "metadata": {},
   "outputs": [],
   "source": [
    "if __name__ == '__main__':\n",
    "    # criando um vetor\n",
    "    vet_abc = np.array(['a','b','c','d','e','f','g','h','i'])\n",
    "\n",
    "    # acessando elementos do vetor\n",
    "    print('O terceiro elemento de vet_abc:')\n",
    "    print( vet_abc[3] )\n",
    "\n",
    "    print('\\nO último elemento de vet_abc:')\n",
    "    print( vet_abc[-1] )\n",
    "\n",
    "    print('\\nTrês primeiros elementos de vet_abc: ')\n",
    "    print( vet_abc[0:3] )\n",
    "\n",
    "    print('\\nTodos os valores após o quinto elementos de vet_abc: ')\n",
    "    print( vet_abc[5:] )\n",
    "\n",
    "    print('\\nOs três ultimos valores de vet_abc: ')\n",
    "    print( vet_abc[-3:] )\n",
    "\n",
    "    print('\\nOs valores de vet_abc entre o 5 elemento até o penúltimo elemento: ')\n",
    "    print( vet_abc[4:-2], 'ou', vet_abc[4:7] )"
   ]
  },
  {
   "cell_type": "markdown",
   "metadata": {},
   "source": [
    "O acesso a elementos de matrizes funciona de forma similar. Entretanto, podemos especificar o intervalo de seleção para cada dimensão de nosso vetor multi-dimensional. Sendo $V$ um vetor de 3 dimensões, indicamos os elementos e intervalos em cada uma das 3 dimensões usando a sintaxe $V[1,2,3]$. Caso desejemos capturar todos elementos de uma dimensão, podemos usar `:`.\n",
    "\n",
    "Suponha que temos um array: $\\begin{bmatrix}\n",
    "    1a & 1b & 1c & 1d & 1e & 1f & 1g & 1h & 1i \\\\\n",
    "    2a & 2b & 2c & 2d & 2e & 2f & 2g & 2h & 2i \\\\\n",
    "    3a & 3b & 3c & 3d & 3e & 3f & 3g & 3h & 3i \\\\\n",
    "    4a & 4b & 4c & 4d & 4e & 4f & 4g & 4h & 4i \\\\\n",
    "  \\end{bmatrix}$.\n",
    "\n",
    "Nós podemos selecionar vários subconjuntos de elementos dessa matriz, conforme mostrado abaixo."
   ]
  },
  {
   "cell_type": "code",
   "execution_count": null,
   "metadata": {},
   "outputs": [],
   "source": [
    "if __name__ == '__main__':\n",
    "    # criando uma matriz\n",
    "    vet_abc = np.array( [['1a','1b','1c','1d','1e','1f','1g','1h','1i'],\n",
    "                        ['2a','2b','2c','2d','2e','2f','2g','2h','2i'],\n",
    "                        ['3a','3b','3c','3d','3e','3f','3g','3h','3i'],\n",
    "                        ['4a','4b','4c','4d','4e','4f','4g', '4h','4i']])\n",
    "\n",
    "    print('Matriz inteira: ')\n",
    "    print( vet_abc )\n",
    "\n",
    "    print('\\nTodos os elementos da coluna 3: ')\n",
    "    print( vet_abc[:,2] )\n",
    "\n",
    "    print('\\nTodos os elementos da linha 2: ')\n",
    "    print( vet_abc[1,:] )\n",
    "\n",
    "    print('\\nTodos os elementos das 2 primeiras colunas: ')\n",
    "    print( vet_abc[:,0:2] )\n",
    "\n",
    "    print('\\nTodos os elementos das 2 primeiras linhas: ')\n",
    "    print( vet_abc[0:2,:] )\n",
    "\n",
    "    print('\\nApenas os elementos das 2 primeiras linhas e das 2 primeiras colunas: ')\n",
    "    print( vet_abc[0:2,0:2] )\n",
    "\n",
    "    print('\\nApenas os elementos das 2 últimas linhas e das 4 últimas colunas: ')\n",
    "    print( vet_abc[-2:,-4:] )\n",
    "\n",
    "    print('\\nApenas os elementos das linhas 2 até 4 e das colunas 4 até 6: ')\n",
    "    print( vet_abc[1:3,3:6] )"
   ]
  },
  {
   "cell_type": "markdown",
   "metadata": {},
   "source": [
    "## Operações básicas com vetores e matrizes\n",
    "\n",
    "Embora seja possível realizar operações entre vetores usando estruturas de repetição, isso é **extremamente ineficiente**! \n",
    "\n",
    "Utilizando funções do próprio numpy, podemos realizar essas operações de forma **vetorizada**. Essas funções são altamente otimizadas, executando muitas vezes operações em paralelo. Dessa forma, a execução do código se torna mais rápida.\n",
    "\n",
    "Vamos aprender a realizar algumas operações básicas de forma vetorizada..."
   ]
  },
  {
   "cell_type": "markdown",
   "metadata": {},
   "source": [
    "### Soma e subtração\n",
    "\n",
    "Podem ser usados os caracteres `+` e `-`, ou as funções `np.sum` e `np.subtract`."
   ]
  },
  {
   "cell_type": "code",
   "execution_count": null,
   "metadata": {},
   "outputs": [],
   "source": [
    "if __name__ == '__main__':\n",
    "    A = np.array( [1,2,3] )\n",
    "    B = np.array( [4,5,6] )\n",
    "    print('A:', A)\n",
    "    print('B:', B)\n",
    "\n",
    "    print('\\nA+B: ', A+B)\n",
    "    print('A-B: ', A-B)"
   ]
  },
  {
   "cell_type": "markdown",
   "metadata": {},
   "source": [
    "Ambas as operações funcionam em matrizes da mesma maneira que em vetores:"
   ]
  },
  {
   "cell_type": "code",
   "execution_count": null,
   "metadata": {},
   "outputs": [],
   "source": [
    "if __name__ == '__main__':\n",
    "    X1 = np.array( [[1,2,3],\n",
    "                    [4,5,6]] )\n",
    "\n",
    "    X2 = np.array( [[4,5,6],\n",
    "                    [7,8,9]])\n",
    "\n",
    "    print('X1: \\n', X1);\n",
    "    print('\\nX2: \\n', X2);\n",
    "\n",
    "    print('\\nX1 + X2:')\n",
    "    print(X1+X2)\n",
    "\n",
    "    print('\\nX1 - X2:')\n",
    "    print(X1-X2)"
   ]
  },
  {
   "cell_type": "markdown",
   "metadata": {},
   "source": [
    "### Produto entre duas matrizes\n",
    "\n",
    "Através da função `np.dot` podemos realizar uma operação de **multiplicação matricial**:"
   ]
  },
  {
   "cell_type": "code",
   "execution_count": 49,
   "metadata": {},
   "outputs": [
    {
     "name": "stdout",
     "output_type": "stream",
     "text": [
      "A: \n"
     ]
    },
    {
     "data": {
      "text/plain": [
       "array([[1, 2],\n",
       "       [3, 4],\n",
       "       [5, 6]])"
      ]
     },
     "metadata": {},
     "output_type": "display_data"
    },
    {
     "name": "stdout",
     "output_type": "stream",
     "text": [
      "B: \n"
     ]
    },
    {
     "data": {
      "text/plain": [
       "array([[1, 2, 3, 4],\n",
       "       [5, 6, 7, 8]])"
      ]
     },
     "metadata": {},
     "output_type": "display_data"
    },
    {
     "name": "stdout",
     "output_type": "stream",
     "text": [
      "A*B: \n",
      "[[11 14 17 20]\n",
      " [23 30 37 44]\n",
      " [35 46 57 68]]\n"
     ]
    }
   ],
   "source": [
    "if __name__ == '__main__':\n",
    "    A = np.array( ([[1,2],[3,4],[5,6]]) )\n",
    "    B = np.array( ([[1,2,3,4],[5,6,7,8]]) )\n",
    "\n",
    "    print('A: ')\n",
    "    display(A)\n",
    "\n",
    "    print('B: ')\n",
    "    display(B)\n",
    "\n",
    "    print('A*B: ')\n",
    "    print(np.dot(A,B)) "
   ]
  },
  {
   "cell_type": "markdown",
   "metadata": {},
   "source": [
    "Mas **atenção**, diferente da adição e subtração, não podemos usar `*` para multiplicar duas matrizes. O asterisco é utilizado para **multiplicação ponto-a-ponto**, funcionando assim apenas para matrizes de tamanhos idênticos:"
   ]
  },
  {
   "cell_type": "code",
   "execution_count": null,
   "metadata": {},
   "outputs": [],
   "source": [
    "if __name__ == '__main__':\n",
    "    A = np.array( ([[1,2],[3,4],[5,6]]) )\n",
    "    B = np.array( ([[0,1],[2,3],[4,5]]) )\n",
    "\n",
    "    print('A: ')\n",
    "    display(A)\n",
    "\n",
    "    print('B: ')\n",
    "    display(B)\n",
    "\n",
    "    print('A*B: ')\n",
    "    print(A*B) "
   ]
  },
  {
   "cell_type": "markdown",
   "metadata": {},
   "source": [
    "### Média dos valores do vetor\n",
    "\n",
    "Para calcular a média entre os elementos de um vetor, podemos usar a função `np.mean`:"
   ]
  },
  {
   "cell_type": "code",
   "execution_count": null,
   "metadata": {},
   "outputs": [],
   "source": [
    "if __name__ == '__main__':\n",
    "    A = np.array( [2, 3, 5, 7, 11, 13, 17] )\n",
    "\n",
    "    print('A: ', A)\n",
    "\n",
    "    print('Média: ', np.mean(A))"
   ]
  },
  {
   "cell_type": "markdown",
   "metadata": {},
   "source": [
    "Podemos também usar `np.mean` para calcular a média entre os elementos de uma **matriz**. Adicionalmente, podemos usar o parâmetro `axis` para calcular a média por linha ou por coluna.\n",
    "\n",
    "Muitas funções do numpy, incluindo `np.sum`, `np.subtract` e `np.mean`, possuem a opção de realizar a operação a nível de linha ou coluna por meio de `axis`\n",
    "* `axis=0`: realiza a operação a nível de **coluna**\n",
    "* `axis=1`: realiza a operação a nível de **linha**"
   ]
  },
  {
   "cell_type": "code",
   "execution_count": null,
   "metadata": {},
   "outputs": [],
   "source": [
    "if __name__ == '__main__':\n",
    "    print('B: ')\n",
    "    print(B)\n",
    "\n",
    "    # média das colunas de B\n",
    "    media_coluna = np.mean(B, axis = 0)\n",
    "    print('\\nMédia das colunas de B: ')\n",
    "    print(media_coluna)\n",
    "\n",
    "    # média das linhas de B\n",
    "    media_linha = np.mean(B, axis = 1)\n",
    "    print('\\nMédia das linhas de B: ')\n",
    "    print(media_linha)\n",
    "\n",
    "    # média de todos os valores de B \n",
    "    media_geral = np.mean(B)\n",
    "    print('\\nMédia de todos os valores de B: ')\n",
    "    print(media_geral)"
   ]
  },
  {
   "cell_type": "markdown",
   "metadata": {},
   "source": [
    "### Desvio padrão\n",
    "\n",
    "Para calcular o desvio padrão entre os elementos de um vetor podemos usar `np.std`. Assim como nos últimos exemplos, a função também possui o parâmetro `axis`. \n",
    "\n",
    "Adicionalmente, a função possui o parâmetro `ddof`, que representa os graus de liberdade (_delta degrees of freedom_). Usando `ddof=0`, é calculado o desvio padrão populacional. Para calcular o desvio padrão amostral, considerado estatisticamente mais apropriado para as aplicações da disciplina, temos que usar `ddof=1`."
   ]
  },
  {
   "cell_type": "code",
   "execution_count": null,
   "metadata": {},
   "outputs": [],
   "source": [
    "if __name__ == '__main__':\n",
    "    print('B: ')\n",
    "    print(B)\n",
    "\n",
    "    # desvio padrão das linhas de B\n",
    "    std1 = np.std(B, axis = 1, ddof=1)\n",
    "    print('\\nDesvio padrão das linhas de B: ')\n",
    "    display(std1)\n",
    "\n",
    "    # desvio padrão das colunas de B\n",
    "    std2 = np.std(B, axis = 0, ddof=1)\n",
    "    print('\\nDesvio padrão das colunas de B: ')\n",
    "    display(std2)\n",
    "\n",
    "    # desvio padrão de todos os valores de B \n",
    "    std3 = np.std(B, ddof=1)\n",
    "    print('\\nDesvio padrão de todos os valores de B: ')\n",
    "    display(std3)"
   ]
  },
  {
   "cell_type": "markdown",
   "metadata": {},
   "source": [
    "### Outras funções para vetores e matrizes\n",
    "\n",
    "A biblioteca possui ainda diversas outras funções vetorizadas. Alguns exemplos que serão bastante usados na disciplina são:\n",
    "\n",
    "* `np.min()` &rarr; valor mínimo\n",
    "* `np.max()` &rarr; valor máximo\n",
    "* `np.sort(A)` &rarr; retorna o vetor $A$ ordenado\n",
    "* `np.argsort(A)` &rarr; retorna os índices do vetor $A$ ordenado\n",
    "* `np.var()` &rarr; variância\n",
    "* `np.shape()` &rarr; dimensões da matriz\n",
    "* `np.transpose()` &rarr; transposta da matriz\n",
    "* `np.concatenate(arrays, axis=numero_do_eixo)` &rarr; concatena vetores ou matrizes\n",
    "* `vstack(A,B)` &rarr; empilha verticalmente\n",
    "* `hstack(A,B)` &rarr; empilha horizontalmente\n",
    "* `np.where(A>n)` &rarr; elementos em $A$ maiores que $n$"
   ]
  },
  {
   "cell_type": "markdown",
   "metadata": {},
   "source": [
    "## **Exercícios - Numpy**\n",
    "\n",
    "A seguir, são propostos diversos exercícios para testar o que você aprendeu sobre numpy. Em cada um deles, você deve preencher a função **apenas dentro do espaço indicado**.\n",
    "\n",
    "Atente-se para fazer a sua implementação o mais genérica possível antes de enviar no _online judge_. O corretor avaliará com valores diferentes dos passados neste notebook."
   ]
  },
  {
   "cell_type": "markdown",
   "metadata": {},
   "source": [
    "**Ex. 1**. Crie duas matrizes com os nomes $ExA$ e $ExB$ preenchidas com os valores passados como parâmetro."
   ]
  },
  {
   "cell_type": "code",
   "execution_count": 5,
   "metadata": {},
   "outputs": [
    {
     "name": "stdout",
     "output_type": "stream",
     "text": [
      "ExA:\n",
      "[[12  9  4  1]\n",
      " [11  5  8  1]\n",
      " [ 1  2  3  1]]\n",
      "\n",
      "ExB:\n",
      "[[1 5]\n",
      " [1 7]\n",
      " [2 9]\n",
      " [1 1]]\n"
     ]
    }
   ],
   "source": [
    "def criaMatrizes( val_A, val_B ):\n",
    "    \"\"\"\n",
    "    Gera duas matrizes com conteudo predefinido\n",
    "    \"\"\"\n",
    "    \n",
    "    ExA = np.array([[0, 0]])\n",
    "    ExB = np.array([[0, 0]])\n",
    "    \n",
    "    ########################## COMPLETE O CÓDIGO AQUI  #######################\n",
    "    ExA = np.array(val_A)\n",
    "    ExB = np.array(val_B)\n",
    "    ##########################################################################\n",
    "\n",
    "    return ExA, ExB\n",
    "\n",
    "\n",
    "if __name__ == '__main__':\n",
    "    val_A = [[12,9,4,1],[11,5,8,1],[1,2,3,1]]\n",
    "    val_B = [[1,5],[1,7],[2,9],[1,1]]\n",
    "\n",
    "    ExA, ExB = criaMatrizes(val_A, val_B)\n",
    "\n",
    "    print('ExA:')\n",
    "    print(ExA)\n",
    "\n",
    "    print('\\nExB:')\n",
    "    print(ExB)"
   ]
  },
  {
   "cell_type": "markdown",
   "metadata": {},
   "source": [
    "**Ex. 2**. Crie uma matriz $ExC$ usando a seguinte operação: $ExC = ExA \\cdot ExB$."
   ]
  },
  {
   "cell_type": "code",
   "execution_count": 2,
   "metadata": {},
   "outputs": [
    {
     "ename": "NameError",
     "evalue": "name 'ExA' is not defined",
     "output_type": "error",
     "traceback": [
      "\u001b[1;31m---------------------------------------------------------------------------\u001b[0m",
      "\u001b[1;31mNameError\u001b[0m                                 Traceback (most recent call last)",
      "\u001b[1;32mc:\\Users\\gbell\\OneDrive\\Área de Trabalho\\UFSCar\\Perfil 6\\Aprendizado de Máquina\\ex00_base\\ex00.ipynb Cell 42\u001b[0m line \u001b[0;36m1\n\u001b[0;32m     <a href='vscode-notebook-cell:/c%3A/Users/gbell/OneDrive/%C3%81rea%20de%20Trabalho/UFSCar/Perfil%206/Aprendizado%20de%20M%C3%A1quina/ex00_base/ex00.ipynb#X56sZmlsZQ%3D%3D?line=11'>12</a>\u001b[0m     \u001b[39mreturn\u001b[39;00m ExC\n\u001b[0;32m     <a href='vscode-notebook-cell:/c%3A/Users/gbell/OneDrive/%C3%81rea%20de%20Trabalho/UFSCar/Perfil%206/Aprendizado%20de%20M%C3%A1quina/ex00_base/ex00.ipynb#X56sZmlsZQ%3D%3D?line=14'>15</a>\u001b[0m \u001b[39mif\u001b[39;00m \u001b[39m__name__\u001b[39m \u001b[39m==\u001b[39m \u001b[39m'\u001b[39m\u001b[39m__main__\u001b[39m\u001b[39m'\u001b[39m:\n\u001b[1;32m---> <a href='vscode-notebook-cell:/c%3A/Users/gbell/OneDrive/%C3%81rea%20de%20Trabalho/UFSCar/Perfil%206/Aprendizado%20de%20M%C3%A1quina/ex00_base/ex00.ipynb#X56sZmlsZQ%3D%3D?line=15'>16</a>\u001b[0m     ExC \u001b[39m=\u001b[39m multiplicaMatrizes(ExA, ExB)\n\u001b[0;32m     <a href='vscode-notebook-cell:/c%3A/Users/gbell/OneDrive/%C3%81rea%20de%20Trabalho/UFSCar/Perfil%206/Aprendizado%20de%20M%C3%A1quina/ex00_base/ex00.ipynb#X56sZmlsZQ%3D%3D?line=17'>18</a>\u001b[0m     \u001b[39mprint\u001b[39m(\u001b[39m'\u001b[39m\u001b[39mExC:\u001b[39m\u001b[39m'\u001b[39m)\n\u001b[0;32m     <a href='vscode-notebook-cell:/c%3A/Users/gbell/OneDrive/%C3%81rea%20de%20Trabalho/UFSCar/Perfil%206/Aprendizado%20de%20M%C3%A1quina/ex00_base/ex00.ipynb#X56sZmlsZQ%3D%3D?line=18'>19</a>\u001b[0m     \u001b[39mprint\u001b[39m(ExC)\n",
      "\u001b[1;31mNameError\u001b[0m: name 'ExA' is not defined"
     ]
    }
   ],
   "source": [
    "def multiplicaMatrizes( ExA, ExB ):\n",
    "    \"\"\"\n",
    "    Gera uma matriz atraves da multilicacao de outras duas\n",
    "    \"\"\"\n",
    "    \n",
    "    ExC = np.array([[0, 0]])\n",
    "    \n",
    "    ########################## COMPLETE O CÓDIGO AQUI  #######################\n",
    "    ExC = np.matmul(ExA, ExB)\n",
    "    ##########################################################################\n",
    "\n",
    "    return ExC\n",
    "\n",
    "\n",
    "if __name__ == '__main__':\n",
    "    ExC = multiplicaMatrizes(ExA, ExB)\n",
    "\n",
    "    print('ExC:')\n",
    "    print(ExC)"
   ]
  },
  {
   "cell_type": "markdown",
   "metadata": {},
   "source": [
    "**Ex. 3**. Crie uma função que retorne a média e o desvio padrão das linhas de uma matriz e a média e desvio padrão das colunas de uma matriz."
   ]
  },
  {
   "cell_type": "code",
   "execution_count": 1,
   "metadata": {},
   "outputs": [
    {
     "ename": "NameError",
     "evalue": "name 'ExC' is not defined",
     "output_type": "error",
     "traceback": [
      "\u001b[1;31m---------------------------------------------------------------------------\u001b[0m",
      "\u001b[1;31mNameError\u001b[0m                                 Traceback (most recent call last)",
      "\u001b[1;32mc:\\Users\\gbell\\OneDrive\\Área de Trabalho\\UFSCar\\Perfil 6\\Aprendizado de Máquina\\ex00_base\\ex00.ipynb Cell 44\u001b[0m line \u001b[0;36m2\n\u001b[0;32m     <a href='vscode-notebook-cell:/c%3A/Users/gbell/OneDrive/%C3%81rea%20de%20Trabalho/UFSCar/Perfil%206/Aprendizado%20de%20M%C3%A1quina/ex00_base/ex00.ipynb#X61sZmlsZQ%3D%3D?line=15'>16</a>\u001b[0m     \u001b[39mreturn\u001b[39;00m media_linhas, media_colunas, std_linhas, std_colunas\n\u001b[0;32m     <a href='vscode-notebook-cell:/c%3A/Users/gbell/OneDrive/%C3%81rea%20de%20Trabalho/UFSCar/Perfil%206/Aprendizado%20de%20M%C3%A1quina/ex00_base/ex00.ipynb#X61sZmlsZQ%3D%3D?line=18'>19</a>\u001b[0m \u001b[39mif\u001b[39;00m \u001b[39m__name__\u001b[39m \u001b[39m==\u001b[39m \u001b[39m'\u001b[39m\u001b[39m__main__\u001b[39m\u001b[39m'\u001b[39m:\n\u001b[1;32m---> <a href='vscode-notebook-cell:/c%3A/Users/gbell/OneDrive/%C3%81rea%20de%20Trabalho/UFSCar/Perfil%206/Aprendizado%20de%20M%C3%A1quina/ex00_base/ex00.ipynb#X61sZmlsZQ%3D%3D?line=19'>20</a>\u001b[0m     media_linhas, media_colunas, std_linhas, std_colunas \u001b[39m=\u001b[39m mediaStdMatriz(ExC)\n\u001b[0;32m     <a href='vscode-notebook-cell:/c%3A/Users/gbell/OneDrive/%C3%81rea%20de%20Trabalho/UFSCar/Perfil%206/Aprendizado%20de%20M%C3%A1quina/ex00_base/ex00.ipynb#X61sZmlsZQ%3D%3D?line=21'>22</a>\u001b[0m     \u001b[39mprint\u001b[39m(\u001b[39m'\u001b[39m\u001b[39mMedias linhas: \u001b[39m\u001b[39m'\u001b[39m, media_linhas)\n\u001b[0;32m     <a href='vscode-notebook-cell:/c%3A/Users/gbell/OneDrive/%C3%81rea%20de%20Trabalho/UFSCar/Perfil%206/Aprendizado%20de%20M%C3%A1quina/ex00_base/ex00.ipynb#X61sZmlsZQ%3D%3D?line=22'>23</a>\u001b[0m     \u001b[39mprint\u001b[39m(\u001b[39m'\u001b[39m\u001b[39mMedias colunas: \u001b[39m\u001b[39m'\u001b[39m, media_colunas)\n",
      "\u001b[1;31mNameError\u001b[0m: name 'ExC' is not defined"
     ]
    }
   ],
   "source": [
    "def mediaStdMatriz( M ):\n",
    "    \"\"\"\n",
    "    Calcula a media e desvio padrao das linhas e colunas da matriz M\n",
    "    \"\"\"\n",
    "\n",
    "    media_linhas = media_colunas = std_linhas = std_colunas = 0    \n",
    "    \n",
    "    ########################## COMPLETE O CÓDIGO AQUI  #######################\n",
    "    media_linhas = np.mean(M, axis=1)\n",
    "    media_colunas = np.mean(M, axis=0)\n",
    "    std_linhas = np.std(M, axis=1, ddof=1)\n",
    "    std_colunas = np.std(M, axis=0, ddof=1)\n",
    "    ##########################################################################\n",
    "\n",
    "    return media_linhas, media_colunas, std_linhas, std_colunas\n",
    "\n",
    "\n",
    "if __name__ == '__main__':\n",
    "    media_linhas, media_colunas, std_linhas, std_colunas = mediaStdMatriz(ExC)\n",
    "\n",
    "    print('Medias linhas: ', media_linhas)\n",
    "    print('Medias colunas: ', media_colunas)\n",
    "\n",
    "    print('Desvio padrão linhas: ', std_linhas)\n",
    "    print('Desvio padrão colunas: ', std_colunas)"
   ]
  },
  {
   "cell_type": "markdown",
   "metadata": {},
   "source": [
    "**Ex. 4**. Crie uma função que gera uma matriz $ExD$ com os valores das duas últimas colunas da matriz passada como parâmetro. Depois, calcule a média geral dos valores de $ExD$."
   ]
  },
  {
   "cell_type": "code",
   "execution_count": 19,
   "metadata": {},
   "outputs": [
    {
     "name": "stdout",
     "output_type": "stream",
     "text": [
      "ExD:\n",
      "[[4 1]\n",
      " [8 1]\n",
      " [3 1]]\n",
      "\n",
      "Média\n",
      "3.0\n"
     ]
    }
   ],
   "source": [
    "def duasUltimasColunasMedia( M ):\n",
    "    \"\"\"\n",
    "    Gera uma matriz com os valores das duas ultimas colunas de M e calcula a média geral\n",
    "    \"\"\"\n",
    "    \n",
    "    ExD = np.array([[0, 0]])\n",
    "    media_D = 0\n",
    "    \n",
    "    ########################## COMPLETE O CÓDIGO AQUI  #######################\n",
    "    ExD = M[:, -2:]\n",
    "    media_D = np.mean(ExD)\n",
    "    ##########################################################################\n",
    "\n",
    "    return ExD, media_D\n",
    "\n",
    "\n",
    "if __name__ == '__main__':\n",
    "    ExD, media_D = duasUltimasColunasMedia(ExA)\n",
    "\n",
    "    print('ExD:')\n",
    "    print(ExD)\n",
    "\n",
    "    print('\\nMédia')\n",
    "    print(media_D)"
   ]
  },
  {
   "cell_type": "markdown",
   "metadata": {},
   "source": [
    "**Ex. 5**. Crie uma função que gera matriz $ExE$ com os valores das linhas de índice 1 e 2 e das colunas de índice 1 e 2 de uma matriz passada como parâmetro (_lembre-se que o índice começa em 0_)."
   ]
  },
  {
   "cell_type": "code",
   "execution_count": 16,
   "metadata": {},
   "outputs": [
    {
     "name": "stdout",
     "output_type": "stream",
     "text": [
      "ExE:\n",
      "[[[5 8]\n",
      "  [2 3]]]\n"
     ]
    }
   ],
   "source": [
    "def matrizLinhasColunas( M ):\n",
    "    \"\"\"\n",
    "    Gera uma matriz com os valores das linhas e colunas de M com indice 1 e 2\n",
    "    \"\"\"\n",
    "    \n",
    "    ExE = np.array([[0, 0]])    \n",
    "    \n",
    "    ########################## COMPLETE O CÓDIGO AQUI  #######################\n",
    "    ExE = np.array([M[1:3, 1:3]])\n",
    "    ##########################################################################\n",
    "\n",
    "    return ExE\n",
    "\n",
    "\n",
    "if __name__ == '__main__':\n",
    "    ExE = matrizLinhasColunas(ExA)\n",
    "\n",
    "    print('ExE:')\n",
    "    print(ExE)"
   ]
  },
  {
   "cell_type": "markdown",
   "metadata": {},
   "source": [
    "**Ex. 6**. Crie uma função que gera uma matriz $ExF$ com $M$ linhas e $N$ colunas e todos os valores iguais a 0."
   ]
  },
  {
   "cell_type": "code",
   "execution_count": 30,
   "metadata": {},
   "outputs": [
    {
     "name": "stdout",
     "output_type": "stream",
     "text": [
      "ExF:\n",
      "[[0. 0.]\n",
      " [0. 0.]\n",
      " [0. 0.]\n",
      " [0. 0.]\n",
      " [0. 0.]]\n"
     ]
    }
   ],
   "source": [
    "def matrizZeros( M, N ):\n",
    "    \"\"\"\n",
    "    Gera uma matriz com M linhas e N colunas, preenchendo seu conteudo com 0\n",
    "    \"\"\"\n",
    "    \n",
    "    ExF = np.array([[0, 0]])    \n",
    "    \n",
    "    ########################## COMPLETE O CÓDIGO AQUI  #######################\n",
    "    ExF = np.zeros((M, N))\n",
    "    ##########################################################################\n",
    "\n",
    "    return ExF\n",
    "\n",
    "\n",
    "if __name__ == '__main__':\n",
    "    ExF = matrizZeros(5, 2)\n",
    "\n",
    "    print('ExF:')\n",
    "    print(ExF)"
   ]
  },
  {
   "cell_type": "markdown",
   "metadata": {},
   "source": [
    "**Ex. 7**. Crie uma função que gera um vetor $ExG$ com $M$ elementos e todos os valores iguais a $V$."
   ]
  },
  {
   "cell_type": "code",
   "execution_count": 32,
   "metadata": {},
   "outputs": [
    {
     "name": "stdout",
     "output_type": "stream",
     "text": [
      "ExG:\n",
      "[3 3 3 3]\n"
     ]
    }
   ],
   "source": [
    "def vetorVs( M, V ):\n",
    "    \"\"\"\n",
    "    Gera um vetor com M elementos, preenchendo seu conteudo com V\n",
    "    \"\"\"\n",
    "    \n",
    "    ExG = np.array([0, 0])    \n",
    "    \n",
    "    ########################## COMPLETE O CÓDIGO AQUI  #######################\n",
    "    ExG = np.full(M, V)\n",
    "    ##########################################################################\n",
    "\n",
    "    return ExG\n",
    "\n",
    "\n",
    "if __name__ == '__main__':\n",
    "    ExG = vetorVs(4, 3)\n",
    "\n",
    "    print('ExG:')\n",
    "    print(ExG)"
   ]
  },
  {
   "cell_type": "markdown",
   "metadata": {},
   "source": [
    "**Ex. 8**. Crie uma função que retorne o fatorial de um número. Teste a função que você criou, calculando o fatorial de 8. \n",
    "\n",
    "Fórmula do fatorial: $n! = (1 * 2 * 3 * ... * (n-2) * (n-1) * n)$\n",
    "\n",
    "**Obs: é obrigatório usar um laço `for`.**\n",
    "\n",
    "Exemplos: \n",
    "* $1! = 1$\n",
    "* $2! = 1*2$\n",
    "* $3! = 1*2*3$\n",
    "* $4! = 1*2*3*4$\n",
    "* $5! = 1*2*3*4*5$"
   ]
  },
  {
   "cell_type": "code",
   "execution_count": 36,
   "metadata": {},
   "outputs": [
    {
     "name": "stdout",
     "output_type": "stream",
     "text": [
      "8! =  40320\n"
     ]
    }
   ],
   "source": [
    "def fatorial(n):\n",
    "    \"\"\"\n",
    "    Calcula o fatorial de n (n!)\n",
    "    \"\"\"\n",
    "    \n",
    "    fat = 0\n",
    "    \n",
    "    ########################## COMPLETE O CÓDIGO AQUI  #######################\n",
    "    for i in range(n + 1):\n",
    "        if fat < 1:\n",
    "            fat += 1\n",
    "        else:\n",
    "            fat *= i\n",
    "    ##########################################################################\n",
    "    \n",
    "    return fat\n",
    "    \n",
    "\n",
    "if __name__ == '__main__':\n",
    "    fat = fatorial(8)\n",
    "\n",
    "    print('8! = ', fat)"
   ]
  },
  {
   "cell_type": "markdown",
   "metadata": {},
   "source": [
    "# <center>**Pandas**: conjuntos de dados</center>\n",
    "\n",
    "A biblioteca `pandas` permite a criação e manipulação de conjuntos de dados estruturados, tratados como uma matriz. Ao longo da disciplina, recomenda-se a constante consulta da documentação da biblioteca, disponível [aqui](https://pandas.pydata.org/), que possui muitas funções interessantes e exemplos de uso.\n",
    "\n",
    "Primeiro, você deve importar a biblioteca, antes de usar suas funções."
   ]
  },
  {
   "cell_type": "code",
   "execution_count": 41,
   "metadata": {},
   "outputs": [],
   "source": [
    "# -*- coding: utf-8 -*-\n",
    "import pandas as pd # importa a biblioteca usada para trabalhar com conjuntos de dados"
   ]
  },
  {
   "cell_type": "markdown",
   "metadata": {},
   "source": [
    "### Criando DataFrames\n",
    "\n",
    "Enquanto numpy utiliza vetores, o principal objeto utilizado pelo pandas é chamado DataFrame. Um DataFrame consiste em um vetor bi-dimensional (sendo um _np.array_ por baixo dos panos), com informações adicionais, como nomes de coluna e índice.\n",
    "\n",
    "Para criar um DataFrame com valores predefinidos, podemos usar a função `pd.DataFrame`, passando um _np.array_ como parâmetro. Vamos criar um DataFrame, definindo nomes para suas colunas e índices (linhas):"
   ]
  },
  {
   "cell_type": "code",
   "execution_count": 38,
   "metadata": {},
   "outputs": [
    {
     "name": "stdout",
     "output_type": "stream",
     "text": [
      "Matriz:\n",
      "[[ 1  2  3  4  5]\n",
      " [ 6  7  8  9 10]]\n",
      "\n",
      "DataFrame:\n"
     ]
    },
    {
     "data": {
      "text/html": [
       "<div>\n",
       "<style scoped>\n",
       "    .dataframe tbody tr th:only-of-type {\n",
       "        vertical-align: middle;\n",
       "    }\n",
       "\n",
       "    .dataframe tbody tr th {\n",
       "        vertical-align: top;\n",
       "    }\n",
       "\n",
       "    .dataframe thead th {\n",
       "        text-align: right;\n",
       "    }\n",
       "</style>\n",
       "<table border=\"1\" class=\"dataframe\">\n",
       "  <thead>\n",
       "    <tr style=\"text-align: right;\">\n",
       "      <th></th>\n",
       "      <th>Col1</th>\n",
       "      <th>Col2</th>\n",
       "      <th>Col3</th>\n",
       "      <th>Col4</th>\n",
       "      <th>Col5</th>\n",
       "    </tr>\n",
       "  </thead>\n",
       "  <tbody>\n",
       "    <tr>\n",
       "      <th>Ind1</th>\n",
       "      <td>1</td>\n",
       "      <td>2</td>\n",
       "      <td>3</td>\n",
       "      <td>4</td>\n",
       "      <td>5</td>\n",
       "    </tr>\n",
       "    <tr>\n",
       "      <th>Ind2</th>\n",
       "      <td>6</td>\n",
       "      <td>7</td>\n",
       "      <td>8</td>\n",
       "      <td>9</td>\n",
       "      <td>10</td>\n",
       "    </tr>\n",
       "  </tbody>\n",
       "</table>\n",
       "</div>"
      ],
      "text/plain": [
       "      Col1  Col2  Col3  Col4  Col5\n",
       "Ind1     1     2     3     4     5\n",
       "Ind2     6     7     8     9    10"
      ]
     },
     "metadata": {},
     "output_type": "display_data"
    }
   ],
   "source": [
    "if __name__ == '__main__':\n",
    "    # cria uma matriz\n",
    "    vec_A = np.array( [[1,2,3,4,5],[6,7,8,9,10]] )\n",
    "    print('Matriz:')\n",
    "    print(vec_A)\n",
    "\n",
    "    # nomes das linhas e colunas\n",
    "    index_names = ['Ind1', 'Ind2']\n",
    "    column_names = ['Col1', 'Col2', 'Col3', 'Col4', 'Col5']\n",
    "\n",
    "    # gera o dataframe\n",
    "    df_A = pd.DataFrame(vec_A, index=index_names, columns=column_names)\n",
    "    print('\\nDataFrame:')\n",
    "    display(df_A)"
   ]
  },
  {
   "cell_type": "markdown",
   "metadata": {},
   "source": [
    "É possível obter o conteúdo de um _pd.DataFrame_ em formato _np.array_ através do atributo `values`:"
   ]
  },
  {
   "cell_type": "code",
   "execution_count": 40,
   "metadata": {},
   "outputs": [
    {
     "name": "stdout",
     "output_type": "stream",
     "text": [
      "Conteúdo do DataFrame como array:\n",
      "[[ 1  2  3  4  5]\n",
      " [ 6  7  8  9 10]]\n"
     ]
    }
   ],
   "source": [
    "if __name__ == '__main__':\n",
    "    print('Conteúdo do DataFrame como array:')\n",
    "    print(df_A.values)"
   ]
  },
  {
   "cell_type": "markdown",
   "metadata": {},
   "source": [
    "Na Ciência de Dados e em aplicações de Aprendizado de Máquina, é comum usarmos DataFrames para manipular os conjuntos de dados. Normalmente, estes conjuntos são salvos em arquivos de diferentes formatos, e através do pandas, podemos gerar um DataFrame direto da leitura de um arquivo. Alguns exemplos de funções para essa finalidade são:\n",
    "\n",
    "* `pd.read_csv`: gera um DataFrame de um arquivo CSV\n",
    "* `pd.read_excel`: gera um DataFrame de um arquivo XLS\n",
    "* `pd.read_json`: gera um DataFrame de um arquivo JSON\n",
    "* `pd.read_sql`: gera um DataFrame com base em uma query SQL em um banco de dados\n",
    "\n",
    "entre outras..."
   ]
  },
  {
   "cell_type": "markdown",
   "metadata": {},
   "source": [
    "### Acessando linhas e colunas pelo nome\n",
    "\n",
    "Para acessar uma **coluna** específica do DataFrame pelo nome, usamos `df['col']`, onde `df` corresponde ao DataFrame e `'col'` ao nome da coluna."
   ]
  },
  {
   "cell_type": "code",
   "execution_count": 42,
   "metadata": {},
   "outputs": [
    {
     "name": "stdout",
     "output_type": "stream",
     "text": [
      "Terceira coluna do DataFrame: \n"
     ]
    },
    {
     "data": {
      "text/plain": [
       "Ind1    3\n",
       "Ind2    8\n",
       "Name: Col3, dtype: int32"
      ]
     },
     "metadata": {},
     "output_type": "display_data"
    }
   ],
   "source": [
    "if __name__ == '__main__':\n",
    "    # acessa a terceira coluna\n",
    "    print('Terceira coluna do DataFrame: ')\n",
    "    display(df_A['Col3'])"
   ]
  },
  {
   "cell_type": "markdown",
   "metadata": {},
   "source": [
    "Para acessar uma **linha**, usamos o atributo `loc`, da seguinte forma: `df.loc['index']`, onde `'index'` corresponde ao nome da linha. É também possível acessar a coluna por meio de `loc`, seguindo uma lógica semelhante ao acesso em vetores multi-dimensionais em numpy: `df.loc[:, 'col']`."
   ]
  },
  {
   "cell_type": "code",
   "execution_count": 43,
   "metadata": {},
   "outputs": [
    {
     "name": "stdout",
     "output_type": "stream",
     "text": [
      "Primeira linha do DataFrame: \n"
     ]
    },
    {
     "data": {
      "text/plain": [
       "Col1    1\n",
       "Col2    2\n",
       "Col3    3\n",
       "Col4    4\n",
       "Col5    5\n",
       "Name: Ind1, dtype: int32"
      ]
     },
     "metadata": {},
     "output_type": "display_data"
    },
    {
     "name": "stdout",
     "output_type": "stream",
     "text": [
      "\n",
      "Segunda coluna do DataFrame usando loc: \n"
     ]
    },
    {
     "data": {
      "text/plain": [
       "Ind1    2\n",
       "Ind2    7\n",
       "Name: Col2, dtype: int32"
      ]
     },
     "metadata": {},
     "output_type": "display_data"
    }
   ],
   "source": [
    "if __name__ == '__main__':\n",
    "    # acessa a primeira linha\n",
    "    print('Primeira linha do DataFrame: ')\n",
    "    display(df_A.loc['Ind1'])\n",
    "\n",
    "    # acessa a segunda coluna usando loc\n",
    "    print('\\nSegunda coluna do DataFrame usando loc: ')\n",
    "    display(df_A.loc[:, 'Col2'])"
   ]
  },
  {
   "cell_type": "markdown",
   "metadata": {},
   "source": [
    "Por fim, é possível acessar uma posição específica usando `loc` e passando ambos os nomes da coluna e da linha."
   ]
  },
  {
   "cell_type": "code",
   "execution_count": null,
   "metadata": {},
   "outputs": [],
   "source": [
    "if __name__ == '__main__':\n",
    "    # acessa o elemento na segunda linha e quarta coluna\n",
    "    print('Elemento na segunda linha e quarta coluna: ')\n",
    "    print(df_A.loc['Ind2', 'Col4'])"
   ]
  },
  {
   "cell_type": "markdown",
   "metadata": {},
   "source": [
    "### Acessando linhas e colunas pela posição\n",
    "\n",
    "Uma outra maneira de acessar o conteúdo de um DataFrame é pela posição da linha e coluna. Isso é muito útil para quando você não sabe o nome da linha/coluna, ou sabe que este nome pode mudar ao longo da execução.\n",
    "\n",
    "Para acessar um elemento pela posição, usamos `iloc`, de forma muito semelhante ao `loc`:\n",
    "\n",
    "_Obs.: lembre-se que o índice em Python começa em 0_"
   ]
  },
  {
   "cell_type": "code",
   "execution_count": 44,
   "metadata": {},
   "outputs": [
    {
     "name": "stdout",
     "output_type": "stream",
     "text": [
      "\n",
      "Terceira coluna do DataFrame: \n"
     ]
    },
    {
     "data": {
      "text/plain": [
       "Ind1    3\n",
       "Ind2    8\n",
       "Name: Col3, dtype: int32"
      ]
     },
     "metadata": {},
     "output_type": "display_data"
    },
    {
     "name": "stdout",
     "output_type": "stream",
     "text": [
      "\n",
      "Primeira linha do DataFrame: \n"
     ]
    },
    {
     "data": {
      "text/plain": [
       "Col1    1\n",
       "Col2    2\n",
       "Col3    3\n",
       "Col4    4\n",
       "Col5    5\n",
       "Name: Ind1, dtype: int32"
      ]
     },
     "metadata": {},
     "output_type": "display_data"
    },
    {
     "name": "stdout",
     "output_type": "stream",
     "text": [
      "\n",
      "Elemento na segunda linha e quarta coluna: \n",
      "9\n"
     ]
    }
   ],
   "source": [
    "if __name__ == '__main__':\n",
    "    # acessa a terceira coluna\n",
    "    print('\\nTerceira coluna do DataFrame: ')\n",
    "    display(df_A.iloc[:, 2])\n",
    "\n",
    "    # acessa a primeira linha\n",
    "    print('\\nPrimeira linha do DataFrame: ')\n",
    "    display(df_A.iloc[0])\n",
    "\n",
    "    # acessa o elemento na segunda linha e quarta coluna\n",
    "    print('\\nElemento na segunda linha e quarta coluna: ')\n",
    "    print(df_A.iloc[1, 3])"
   ]
  },
  {
   "cell_type": "markdown",
   "metadata": {},
   "source": [
    "### Operações matriciais dentro de um DataFrame\n",
    "\n",
    "Assim como ocorre em numpy, a biblioteca pandas fornece diversas funções para realizar operações de forma vetorizada dentro do conteúdo do DataFrame. Nelas, também utilizamos o parâmetro `axis` para definir se as operações são realizadas a nível de linha ou coluna. Adicionalmente, algumas das funções que vimos em numpy podem ser usadas recebendo um DataFrame como parâmetro.\n",
    "\n",
    "Vamos realizar alguns exemplos de operações sobre seus elementos:"
   ]
  },
  {
   "cell_type": "code",
   "execution_count": 48,
   "metadata": {},
   "outputs": [
    {
     "name": "stdout",
     "output_type": "stream",
     "text": [
      "Soma das colunas:\n"
     ]
    },
    {
     "data": {
      "text/plain": [
       "Col1     7\n",
       "Col2     9\n",
       "Col3    11\n",
       "Col4    13\n",
       "Col5    15\n",
       "dtype: int64"
      ]
     },
     "metadata": {},
     "output_type": "display_data"
    },
    {
     "name": "stdout",
     "output_type": "stream",
     "text": [
      "\n",
      "Soma geral do DataFrame:\n",
      "55\n",
      "\n",
      "Média das linhas:\n"
     ]
    },
    {
     "data": {
      "text/plain": [
       "Ind1    3.0\n",
       "Ind2    8.0\n",
       "dtype: float64"
      ]
     },
     "metadata": {},
     "output_type": "display_data"
    },
    {
     "name": "stdout",
     "output_type": "stream",
     "text": [
      "\n",
      "Desvio padrão das colunas:\n"
     ]
    },
    {
     "data": {
      "text/plain": [
       "Col1    3.535534\n",
       "Col2    3.535534\n",
       "Col3    3.535534\n",
       "Col4    3.535534\n",
       "Col5    3.535534\n",
       "dtype: float64"
      ]
     },
     "metadata": {},
     "output_type": "display_data"
    },
    {
     "name": "stdout",
     "output_type": "stream",
     "text": [
      "\n",
      "Mediana das linhas:\n"
     ]
    },
    {
     "data": {
      "text/plain": [
       "Ind1    3.0\n",
       "Ind2    8.0\n",
       "dtype: float64"
      ]
     },
     "metadata": {},
     "output_type": "display_data"
    }
   ],
   "source": [
    "if __name__ == '__main__':\n",
    "    # soma as colunas do DataFrame\n",
    "    print('Soma das colunas:')\n",
    "    display(df_A.sum(axis=0))\n",
    "\n",
    "    # soma todos os elementos do DataFrame\n",
    "    print('\\nSoma geral do DataFrame:')\n",
    "    print(df_A.sum().sum())\n",
    "\n",
    "    # calcula a média por linha\n",
    "    print('\\nMédia das linhas:')\n",
    "    display(df_A.mean(axis=1))\n",
    "\n",
    "    # calcula o desvio padrão por colunas\n",
    "    print('\\nDesvio padrão das colunas:')\n",
    "    display(df_A.std(axis=0, ddof=1))\n",
    "\n",
    "    # calcula a mediana das linhas\n",
    "    print('\\nMediana das linhas:')\n",
    "    display(df_A.median(axis=1))"
   ]
  },
  {
   "cell_type": "markdown",
   "metadata": {},
   "source": [
    "### Multiplicação de DataFrames\n",
    "\n",
    "Assim como feito com vetores, podemos usar o método `np.dot` para realizar multiplicação matricial entre dois DataFrames. \n",
    "\n",
    "_Obs.: embora a biblioteca possua o método `pd.DataFrame.dot`, ele requer que as colunas e índices tenham o mesmo nome, o que não é o caso de DataFrames com dimensões diferentes entre si. Por esse motivo, é preferível usar `pd.DataFrame.values` com `np.dot`._"
   ]
  },
  {
   "cell_type": "code",
   "execution_count": 50,
   "metadata": {},
   "outputs": [
    {
     "name": "stdout",
     "output_type": "stream",
     "text": [
      "Matriz:\n",
      "[[ 1  2  3]\n",
      " [ 4  5  6]\n",
      " [ 7  8  9]\n",
      " [10 11 12]\n",
      " [13 14 15]]\n",
      "\n",
      "DataFrame A:\n"
     ]
    },
    {
     "data": {
      "text/html": [
       "<div>\n",
       "<style scoped>\n",
       "    .dataframe tbody tr th:only-of-type {\n",
       "        vertical-align: middle;\n",
       "    }\n",
       "\n",
       "    .dataframe tbody tr th {\n",
       "        vertical-align: top;\n",
       "    }\n",
       "\n",
       "    .dataframe thead th {\n",
       "        text-align: right;\n",
       "    }\n",
       "</style>\n",
       "<table border=\"1\" class=\"dataframe\">\n",
       "  <thead>\n",
       "    <tr style=\"text-align: right;\">\n",
       "      <th></th>\n",
       "      <th>Col1</th>\n",
       "      <th>Col2</th>\n",
       "      <th>Col3</th>\n",
       "      <th>Col4</th>\n",
       "      <th>Col5</th>\n",
       "    </tr>\n",
       "  </thead>\n",
       "  <tbody>\n",
       "    <tr>\n",
       "      <th>Ind1</th>\n",
       "      <td>1</td>\n",
       "      <td>2</td>\n",
       "      <td>3</td>\n",
       "      <td>4</td>\n",
       "      <td>5</td>\n",
       "    </tr>\n",
       "    <tr>\n",
       "      <th>Ind2</th>\n",
       "      <td>6</td>\n",
       "      <td>7</td>\n",
       "      <td>8</td>\n",
       "      <td>9</td>\n",
       "      <td>10</td>\n",
       "    </tr>\n",
       "  </tbody>\n",
       "</table>\n",
       "</div>"
      ],
      "text/plain": [
       "      Col1  Col2  Col3  Col4  Col5\n",
       "Ind1     1     2     3     4     5\n",
       "Ind2     6     7     8     9    10"
      ]
     },
     "metadata": {},
     "output_type": "display_data"
    },
    {
     "name": "stdout",
     "output_type": "stream",
     "text": [
      "\n",
      "DataFrame B:\n"
     ]
    },
    {
     "data": {
      "text/html": [
       "<div>\n",
       "<style scoped>\n",
       "    .dataframe tbody tr th:only-of-type {\n",
       "        vertical-align: middle;\n",
       "    }\n",
       "\n",
       "    .dataframe tbody tr th {\n",
       "        vertical-align: top;\n",
       "    }\n",
       "\n",
       "    .dataframe thead th {\n",
       "        text-align: right;\n",
       "    }\n",
       "</style>\n",
       "<table border=\"1\" class=\"dataframe\">\n",
       "  <thead>\n",
       "    <tr style=\"text-align: right;\">\n",
       "      <th></th>\n",
       "      <th>Col1</th>\n",
       "      <th>Col2</th>\n",
       "      <th>Col3</th>\n",
       "    </tr>\n",
       "  </thead>\n",
       "  <tbody>\n",
       "    <tr>\n",
       "      <th>Ind1</th>\n",
       "      <td>1</td>\n",
       "      <td>2</td>\n",
       "      <td>3</td>\n",
       "    </tr>\n",
       "    <tr>\n",
       "      <th>Ind2</th>\n",
       "      <td>4</td>\n",
       "      <td>5</td>\n",
       "      <td>6</td>\n",
       "    </tr>\n",
       "    <tr>\n",
       "      <th>Ind3</th>\n",
       "      <td>7</td>\n",
       "      <td>8</td>\n",
       "      <td>9</td>\n",
       "    </tr>\n",
       "    <tr>\n",
       "      <th>Ind4</th>\n",
       "      <td>10</td>\n",
       "      <td>11</td>\n",
       "      <td>12</td>\n",
       "    </tr>\n",
       "    <tr>\n",
       "      <th>Ind5</th>\n",
       "      <td>13</td>\n",
       "      <td>14</td>\n",
       "      <td>15</td>\n",
       "    </tr>\n",
       "  </tbody>\n",
       "</table>\n",
       "</div>"
      ],
      "text/plain": [
       "      Col1  Col2  Col3\n",
       "Ind1     1     2     3\n",
       "Ind2     4     5     6\n",
       "Ind3     7     8     9\n",
       "Ind4    10    11    12\n",
       "Ind5    13    14    15"
      ]
     },
     "metadata": {},
     "output_type": "display_data"
    },
    {
     "name": "stdout",
     "output_type": "stream",
     "text": [
      "\n",
      "A * B\n"
     ]
    },
    {
     "data": {
      "text/html": [
       "<div>\n",
       "<style scoped>\n",
       "    .dataframe tbody tr th:only-of-type {\n",
       "        vertical-align: middle;\n",
       "    }\n",
       "\n",
       "    .dataframe tbody tr th {\n",
       "        vertical-align: top;\n",
       "    }\n",
       "\n",
       "    .dataframe thead th {\n",
       "        text-align: right;\n",
       "    }\n",
       "</style>\n",
       "<table border=\"1\" class=\"dataframe\">\n",
       "  <thead>\n",
       "    <tr style=\"text-align: right;\">\n",
       "      <th></th>\n",
       "      <th>0</th>\n",
       "      <th>1</th>\n",
       "      <th>2</th>\n",
       "    </tr>\n",
       "  </thead>\n",
       "  <tbody>\n",
       "    <tr>\n",
       "      <th>0</th>\n",
       "      <td>135</td>\n",
       "      <td>150</td>\n",
       "      <td>165</td>\n",
       "    </tr>\n",
       "    <tr>\n",
       "      <th>1</th>\n",
       "      <td>310</td>\n",
       "      <td>350</td>\n",
       "      <td>390</td>\n",
       "    </tr>\n",
       "  </tbody>\n",
       "</table>\n",
       "</div>"
      ],
      "text/plain": [
       "     0    1    2\n",
       "0  135  150  165\n",
       "1  310  350  390"
      ]
     },
     "metadata": {},
     "output_type": "display_data"
    }
   ],
   "source": [
    "if __name__ == '__main__':\n",
    "    # cria uma matriz\n",
    "    vec_B = np.array([[1,2,3], [4,5,6], [7,8,9], [10,11,12], [13,14,15]])\n",
    "    print('Matriz:')\n",
    "    print(vec_B)\n",
    "\n",
    "    # nomes das linhas e colunas\n",
    "    index_names = ['Ind1', 'Ind2', 'Ind3', 'Ind4', 'Ind5']\n",
    "    column_names = ['Col1', 'Col2', 'Col3']\n",
    "\n",
    "    # gera o dataframe\n",
    "    df_B = pd.DataFrame(vec_B, index=index_names, columns=column_names)\n",
    "\n",
    "    # Exibe os dataframes\n",
    "    print('\\nDataFrame A:')\n",
    "    display(df_A)\n",
    "    print('\\nDataFrame B:')\n",
    "    display(df_B)\n",
    "\n",
    "    # multiplicacao matricial\n",
    "    print('\\nA * B')\n",
    "    display(pd.DataFrame(np.dot(df_A.values, df_B.values)))"
   ]
  },
  {
   "cell_type": "markdown",
   "metadata": {},
   "source": [
    "### Tratamento e análise de dados com pandas\n",
    "\n",
    "A biblioteca fornece muitas funções comumente utilizadas na etapa de exploração e tratamento dos dados. Não veremos como elas funcionam neste notebook porque serão explicadas em notebooks futuros da aula, além de estarem descritas na documentação da biblioteca. Alguns exemplos são:\n",
    "\n",
    "* `fillna`: preenche posições vazias do DataFrame com valores específicos, como uma valor padrão ou a média;\n",
    "* `interpolate`: preenche posições vazias com valores interpolados\n",
    "* `drop_duplicates`: remove linhas que contenham valores duplicados\n",
    "* `sort_values`: ordena o DataFrame por colunas específicas\n",
    "* `value_counts`: conta a quantidade de ocorrência de valores únicos no DataFrame\n",
    "* `pivot_table`: gera um novo DataFrame usando o conteúdo do DataFrame original como índices e colunas\n",
    "* `groupby`: agrupa o DataFrame considerando o conteúdo de alguma coluna e aplicando funções de agregação nas demais"
   ]
  },
  {
   "cell_type": "markdown",
   "metadata": {},
   "source": [
    "## **Exercícios - Pandas**\n",
    "\n",
    "A seguir, são propostos dois exercícios para testar o que você aprendeu sobre pandas. Em cada um deles, você deve preencher a função **apenas dentro do espaço indicado**.\n",
    "\n",
    "Atente-se para fazer a sua implementação o mais genérica possível antes de enviar no online judge. O corretor avaliará com valores diferentes dos passados neste notebook."
   ]
  },
  {
   "cell_type": "markdown",
   "metadata": {},
   "source": [
    "**Ex. 9**. Crie uma função que retorna o elemento de uma posição específica de um DataFrame `df` com base nos nomes da coluna e linha."
   ]
  },
  {
   "cell_type": "code",
   "execution_count": 51,
   "metadata": {},
   "outputs": [
    {
     "data": {
      "text/html": [
       "<div>\n",
       "<style scoped>\n",
       "    .dataframe tbody tr th:only-of-type {\n",
       "        vertical-align: middle;\n",
       "    }\n",
       "\n",
       "    .dataframe tbody tr th {\n",
       "        vertical-align: top;\n",
       "    }\n",
       "\n",
       "    .dataframe thead th {\n",
       "        text-align: right;\n",
       "    }\n",
       "</style>\n",
       "<table border=\"1\" class=\"dataframe\">\n",
       "  <thead>\n",
       "    <tr style=\"text-align: right;\">\n",
       "      <th></th>\n",
       "      <th>Num1</th>\n",
       "      <th>Num2</th>\n",
       "      <th>Num3</th>\n",
       "    </tr>\n",
       "  </thead>\n",
       "  <tbody>\n",
       "    <tr>\n",
       "      <th>AM</th>\n",
       "      <td>10</td>\n",
       "      <td>33</td>\n",
       "      <td>42</td>\n",
       "    </tr>\n",
       "    <tr>\n",
       "      <th>IA</th>\n",
       "      <td>54</td>\n",
       "      <td>11</td>\n",
       "      <td>97</td>\n",
       "    </tr>\n",
       "    <tr>\n",
       "      <th>NLP</th>\n",
       "      <td>50</td>\n",
       "      <td>28</td>\n",
       "      <td>87</td>\n",
       "    </tr>\n",
       "    <tr>\n",
       "      <th>RNA</th>\n",
       "      <td>44</td>\n",
       "      <td>19</td>\n",
       "      <td>83</td>\n",
       "    </tr>\n",
       "  </tbody>\n",
       "</table>\n",
       "</div>"
      ],
      "text/plain": [
       "     Num1  Num2  Num3\n",
       "AM     10    33    42\n",
       "IA     54    11    97\n",
       "NLP    50    28    87\n",
       "RNA    44    19    83"
      ]
     },
     "metadata": {},
     "output_type": "display_data"
    },
    {
     "name": "stdout",
     "output_type": "stream",
     "text": [
      "Elemento da coluna Num1 e da linha IA:  54\n"
     ]
    }
   ],
   "source": [
    "def pegaElementoPeloNome( df, C_name, I_name ):\n",
    "    \"\"\"\n",
    "    Recupera o elemento do DataFrame df com base no nome da coluna e da linha, denotados por C_name e I_name\n",
    "    \"\"\"\n",
    "    \n",
    "    elem = 0\n",
    "    \n",
    "    ########################## COMPLETE O CÓDIGO AQUI  #######################\n",
    "    elem = df.loc[I_name, C_name]\n",
    "    ##########################################################################\n",
    "\n",
    "    return elem\n",
    "\n",
    "\n",
    "if __name__ == '__main__':\n",
    "    df = pd.DataFrame(\n",
    "        [[10, 33, 42], [54, 11, 97], [50, 28, 87], [44, 19, 83]],\n",
    "        columns=['Num1', 'Num2', 'Num3'],\n",
    "        index=['AM', 'IA', 'NLP', 'RNA']\n",
    "    )\n",
    "    display(df)\n",
    "\n",
    "    elem = pegaElementoPeloNome(df, 'Num1', 'IA')\n",
    "\n",
    "    print('Elemento da coluna Num1 e da linha IA: ', elem)"
   ]
  },
  {
   "cell_type": "markdown",
   "metadata": {},
   "source": [
    "**Ex. 10**. Crie uma função que retorna o elemento de uma posição específica de um DataFrame `df` com base nos índices da coluna e linha."
   ]
  },
  {
   "cell_type": "code",
   "execution_count": 53,
   "metadata": {},
   "outputs": [
    {
     "data": {
      "text/html": [
       "<div>\n",
       "<style scoped>\n",
       "    .dataframe tbody tr th:only-of-type {\n",
       "        vertical-align: middle;\n",
       "    }\n",
       "\n",
       "    .dataframe tbody tr th {\n",
       "        vertical-align: top;\n",
       "    }\n",
       "\n",
       "    .dataframe thead th {\n",
       "        text-align: right;\n",
       "    }\n",
       "</style>\n",
       "<table border=\"1\" class=\"dataframe\">\n",
       "  <thead>\n",
       "    <tr style=\"text-align: right;\">\n",
       "      <th></th>\n",
       "      <th>Num1</th>\n",
       "      <th>Num2</th>\n",
       "      <th>Num3</th>\n",
       "    </tr>\n",
       "  </thead>\n",
       "  <tbody>\n",
       "    <tr>\n",
       "      <th>AM</th>\n",
       "      <td>10</td>\n",
       "      <td>33</td>\n",
       "      <td>42</td>\n",
       "    </tr>\n",
       "    <tr>\n",
       "      <th>IA</th>\n",
       "      <td>54</td>\n",
       "      <td>11</td>\n",
       "      <td>97</td>\n",
       "    </tr>\n",
       "    <tr>\n",
       "      <th>NLP</th>\n",
       "      <td>50</td>\n",
       "      <td>28</td>\n",
       "      <td>87</td>\n",
       "    </tr>\n",
       "    <tr>\n",
       "      <th>RNA</th>\n",
       "      <td>44</td>\n",
       "      <td>19</td>\n",
       "      <td>83</td>\n",
       "    </tr>\n",
       "  </tbody>\n",
       "</table>\n",
       "</div>"
      ],
      "text/plain": [
       "     Num1  Num2  Num3\n",
       "AM     10    33    42\n",
       "IA     54    11    97\n",
       "NLP    50    28    87\n",
       "RNA    44    19    83"
      ]
     },
     "metadata": {},
     "output_type": "display_data"
    },
    {
     "name": "stdout",
     "output_type": "stream",
     "text": [
      "Elemento da coluna 1 e da linha 0:  33\n"
     ]
    }
   ],
   "source": [
    "def pegaElementoPelaPosicao( df, C_pos, I_pos ):\n",
    "    \"\"\"\n",
    "    Recupera o elemento do DataFrame df com base no nome da coluna e da linha, denotados por C_name e I_name\n",
    "    \"\"\"\n",
    "    \n",
    "    elem = 0\n",
    "    \n",
    "    ########################## COMPLETE O CÓDIGO AQUI  #######################\n",
    "    elem = df.iloc[I_pos, C_pos]\n",
    "    ##########################################################################\n",
    "\n",
    "    return elem\n",
    "\n",
    "\n",
    "if __name__ == '__main__':\n",
    "    df = pd.DataFrame(\n",
    "        [[10, 33, 42], [54, 11, 97], [50, 28, 87], [44, 19, 83]],\n",
    "        columns=['Num1', 'Num2', 'Num3'],\n",
    "        index=['AM', 'IA', 'NLP', 'RNA']\n",
    "    )\n",
    "    display(df)\n",
    "\n",
    "    elem = pegaElementoPelaPosicao(df, 1, 0)\n",
    "\n",
    "    print('Elemento da coluna 1 e da linha 0: ', elem)"
   ]
  }
 ],
 "metadata": {
  "kernelspec": {
   "display_name": "Python 3",
   "language": "python",
   "name": "python3"
  },
  "language_info": {
   "codemirror_mode": {
    "name": "ipython",
    "version": 3
   },
   "file_extension": ".py",
   "mimetype": "text/x-python",
   "name": "python",
   "nbconvert_exporter": "python",
   "pygments_lexer": "ipython3",
   "version": "3.10.11"
  }
 },
 "nbformat": 4,
 "nbformat_minor": 4
}
