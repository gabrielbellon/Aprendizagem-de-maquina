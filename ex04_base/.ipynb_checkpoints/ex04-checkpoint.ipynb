{
 "cells": [
  {
   "cell_type": "markdown",
   "metadata": {},
   "source": [
    "# <center> <img src=\"figs/LogoUFSCar.jpg\" alt=\"Logo UFScar\" width=\"110\" align=\"left\"/>  <br/> <center>Universidade Federal de São Carlos (UFSCar)<br/><font size=\"4\"> Departamento de Computação, campus Sorocaba</center></font>\n",
    "</p>\n",
    "\n",
    "<br/>\n",
    "<font size=\"4\"><center><b>Disciplina: Aprendizado de Máquina</b></center></font>\n",
    "  \n",
    "<font size=\"3\"><center>Prof. Dr. Tiago A. Almeida</center></font>\n",
    "\n",
    "<br/>\n",
    "<br/>\n",
    "\n",
    "<center><i><b>\n",
    "    Atenção: não são autorizadas cópias, divulgações ou qualquer tipo de uso deste material sem o consentimento prévio dos autores.\n",
    "</center></i></b>"
   ]
  },
  {
   "cell_type": "markdown",
   "metadata": {},
   "source": [
    "## <center> Exercício: Regressão linear </center>\n",
    "\n",
    "Instruções\n",
    "----------\n",
    "\n",
    "Este arquivo contém o código que auxiliará no desenvolvimento do exercício. Você precisará completar as seguintes funções:\n",
    "\n",
    "* `plotarDados()`\n",
    "* `gradienteDescente()`\n",
    "* `computarCusto()`\n",
    "\n",
    "Você não poderá criar nenhuma outra função, nem importar novas bibliotecas. Apenas altere as rotinas fornecidas."
   ]
  },
  {
   "cell_type": "markdown",
   "metadata": {},
   "source": [
    "## Introdução"
   ]
  },
  {
   "cell_type": "markdown",
   "metadata": {},
   "source": [
    "Neste exercício, você irá implementar o método de regressão linear com uma variável para prever o resultado orçamentário mensal de uma cidade. \n",
    "\n",
    "Suponha que Governo Federal deseja estimar o valor (em reais) que sobrará no final de cada mês no caixa de uma prefeitura levando-se em conta o número de habitantes residentes da cidade. Para isso, funcionários do governo coletaram vários resultados médios obtidos para diversas cidades e armazenaram na base de dados.\n",
    "\n",
    "Você foi contratado para desenvolver um método que ofereça uma boa previsão do resultado orçamentário mensal de uma cidade qualquer baseado apenas no tamanho da sua população (número de habitantes).\n",
    "\n",
    "O arquivo `dados.txt` contém o conjunto de dados que deverá ser utilizado para o problema da regressão linear. A primeira coluna contém o tamanho da população da cidade (x 10.000 habitantes) e a segunda coluna corresponde ao resultado orçamentário mensal médio da cidade (x R\\$ 100.000,00). Um valor orçamentário negativo indica que os recursos provenientes pelo Governo Federal foram insuficientes para cobrir todos os gastos."
   ]
  },
  {
   "cell_type": "markdown",
   "metadata": {},
   "source": [
    "## Parte 1: Plotando os dados\n",
    "\n",
    "Nessa etapa você irá completar uma função para plotar os dados."
   ]
  },
  {
   "cell_type": "markdown",
   "metadata": {},
   "source": [
    "Primeiro, vamos carregar os dados do arquivo."
   ]
  },
  {
   "cell_type": "code",
   "execution_count": null,
   "metadata": {},
   "outputs": [],
   "source": [
    "# -*- coding: utf-8 -*-\n",
    "\n",
    "# Caminho dos arquivos\n",
    "FILES_DIRECTORY = \"dados\"\n",
    "\n",
    "import numpy as np #importa a biblioteca usada para trabalhar com vetores de matrizes\n",
    "import pandas as pd #importa a biblioteca usada para trabalhar com dataframes (dados em formato de tabela) e análise de dados\n",
    "import os #importa a biblioteca para tarefas relacionadas ao sistema operacional\n",
    "\n",
    "# importando a biblioteca matplotlib\n",
    "import matplotlib.pyplot as plt\n",
    "\n",
    "# importa o arquivo e guarda em um dataframe do Pandas\n",
    "df_dataset = pd.read_csv( os.path.join(FILES_DIRECTORY, 'dados.txt'), sep=',') "
   ]
  },
  {
   "cell_type": "markdown",
   "metadata": {},
   "source": [
    "Vamos dar uma olhada nas 6 primeiras amostras da base de dados."
   ]
  },
  {
   "cell_type": "code",
   "execution_count": null,
   "metadata": {},
   "outputs": [],
   "source": [
    "# vamos usar a função display para imprimir o dataframe, pois deixa mais bonito. \n",
    "# também poderíamos ter usado a função print: print(df_dataset.head(n=6))\n",
    "display(df_dataset.head(n=6))"
   ]
  },
  {
   "cell_type": "markdown",
   "metadata": {},
   "source": [
    "Vamos guardar os valores do tamanho da população da cidade  dentro de um vetor X e as classes dentro de um vetor Y."
   ]
  },
  {
   "cell_type": "code",
   "execution_count": null,
   "metadata": {},
   "outputs": [],
   "source": [
    "# pega os valores das n-1 primeiras colunas e guarda em um vetor X\n",
    "X = df_dataset['tamanho_populacao'].values \n",
    "\n",
    "# pega os valores da última coluna e guarda em um vetor Y\n",
    "Y = df_dataset['orcamento'].values \n",
    "\n",
    "# imprime as 5 primeiras linhas da matriz X\n",
    "print('Primeiros valores de X:', X[0:5])\n",
    "\n",
    "# imprime os 5 primeiros valores de Y\n",
    "print('Primeiros valores de Y:', Y[0:5])"
   ]
  },
  {
   "cell_type": "markdown",
   "metadata": {},
   "source": [
    "Agora, vamos criar uma função para plotar os dados usando um gráfico de dispersão."
   ]
  },
  {
   "cell_type": "code",
   "execution_count": null,
   "metadata": {},
   "outputs": [],
   "source": [
    "#criando a função para plotar os dados\n",
    "def plotarDados(X,Y):\n",
    "    \"\"\"\n",
    "    Plota pontos de dados e seta os rotulos x e y da\n",
    "    figura com \"Populacao\" e \"Orcamento\", respectivamente.\n",
    "    \"\"\"\n",
    "        \n",
    "    ########################## COMPLETE O CÓDIGO AQUI  ########################\n",
    "    # Instrucoes: Plote os dados de treinamento em um grafico usando o comando \n",
    "    #            \"plt.scatter\". Sete o rotulo dos eixos usando os comandos\n",
    "    #            \"plt.xlabel\" e \"plt.ylabel\". Assuma que a populacao e o resultado \n",
    "    #            orcamentario sao passados nas variaveis X e Y, como \n",
    "    #            argumentos desta funcao.\n",
    "    # \n",
    "    # Dica: Voce pode usar a opcao \"marker='x'\" do comando plt.scatter para obter simbolos que\n",
    "    #       parecem xis. Alem disso, voce pode aumentar o tamanhos dos simbolos\n",
    "    #       usando o parâmetro \"s=30\" da função plt.scatter, troque \"30\" por qualquer valor desejado.\n",
    "\n",
    "    \n",
    "    \n",
    "    \n",
    "    \n",
    "    \n",
    "    \n",
    "    \n",
    "    \n",
    "    \n",
    "    \n",
    "    \n",
    "    \n",
    "    \n",
    "    \n",
    "    \n",
    "    \n",
    "    \n",
    "    \n",
    "    \n",
    "    \n",
    "    \n",
    "    ##########################################################################\n",
    "\n",
    "\n",
    "#chamando a função que plota os dados   \n",
    "plotarDados(X,Y)\n",
    "\n",
    "# mostra o gráfico usando a função show() da matplotlib\n",
    "plt.show()"
   ]
  },
  {
   "cell_type": "markdown",
   "metadata": {},
   "source": [
    "## Parte 2: Gradiente descendente\n",
    "\n",
    "Nessa etapa, será calculado o gradiente descendente. \n",
    "\n",
    "Primeiro, devem ser inicializadas algumas variáveis importantes, como mostrado abaixo."
   ]
  },
  {
   "cell_type": "code",
   "execution_count": null,
   "metadata": {},
   "outputs": [],
   "source": [
    "m = len(X) # número de amostras\n",
    "\n",
    "X = np.column_stack( (np.ones(m),X) ) # Adicionar uma coluna de 1s em x\n",
    "theta = np.zeros(2) # Inicializa parâmetros que serao ajustados\n",
    "\n",
    "# Parametros do gradiente descente\n",
    "iteracoes = 1500\n",
    "alpha = 0.01"
   ]
  },
  {
   "cell_type": "markdown",
   "metadata": {},
   "source": [
    "Na regressão linear, o custo de usar $\\Theta$ como parametro para ajustar os dados, pode ser definido da seguinte forma:\n",
    "\n",
    "\n",
    "$$ J(\\Theta_0, \\Theta_1, ..., \\Theta_n) = \\frac{1}{2m} \\sum_{i=1}^{m} \\left( h_\\Theta\\left(x^{(i)}\\right)-y^{(i)} \\right)^2 $$ e \n",
    "\n",
    "$$ h_\\Theta(x) = \\Theta_0 + \\Theta_1 x_1 + \\Theta_2 x_2, + ...., + \\Theta_n x_n $$ \n",
    "\n",
    "Na função abaixo, você deverá completar a função que será usada para calcular o custo."
   ]
  },
  {
   "cell_type": "code",
   "execution_count": null,
   "metadata": {},
   "outputs": [],
   "source": [
    "def computarCusto(X, Y, theta):\n",
    "    \"\"\"\n",
    "    Calcula o custo de usar theta como parametro \n",
    "    da regressao linear para ajustar os dados de X e y    \n",
    "    \"\"\"\n",
    "    \n",
    "    # Initializa algumas variaveis uteis\n",
    "    m = len(Y) #numero de exemplos de treinamento\n",
    "\n",
    "    # Voce precisa retornar a seguinte variavel corretamente\n",
    "    J = 0\n",
    "\n",
    "    ########################## COMPLETE O CÓDIGO AQUI  ########################\n",
    "    # Instrucoes: Calcule o custo de uma escolha particular de theta.\n",
    "    # Voce precisa armazenar o valor do custo em J.\n",
    "\n",
    "    \n",
    "    \n",
    "    \n",
    "    \n",
    "    \n",
    "    \n",
    "    \n",
    "    \n",
    "    \n",
    "    \n",
    "    \n",
    "    \n",
    "    \n",
    "    \n",
    "    \n",
    "\n",
    "    ##########################################################################\n",
    "    \n",
    "    return J\n",
    "    \n",
    "J = computarCusto(X, Y, theta)\n",
    "print('Custo inicial: %f' %J)"
   ]
  },
  {
   "cell_type": "markdown",
   "metadata": {},
   "source": [
    "Se a sua função estiver correta, o custo inicial exibido deverá ser aproximadamente igual a **32.07**."
   ]
  },
  {
   "cell_type": "markdown",
   "metadata": {},
   "source": [
    "Agora, você precisa completar a função que irá usar o gradiente descendente para otimizar os parâmetros da regressão linear ($\\theta$). Em cada passo do gradiente, o valor de ($\\theta$) é atualizado pela equação:\n",
    "\n",
    "$$\\theta_j := \\theta_j  - \\alpha \\frac{\\partial}{\\partial \\theta_j} J(\\Theta_0, \\Theta_1, ..., \\Theta_n) \\text{,}$$ onde\n",
    "\n",
    "$$ \\frac{\\partial}{\\partial \\theta_j} J(\\Theta_0, \\Theta_1, ..., \\Theta_n)=\\left\\{\n",
    "  \\begin{array}{@{}ll@{}}\n",
    "    \\frac{1}{m} \\sum_{i=1}^{m} \\left( h_\\Theta\\left(x^{(i)}\\right)-y^{(i)} \\right), & \\text{se}\\ j=0 \\\\\n",
    "    \\frac{1}{m} \\sum_{i=1}^{m} \\left( h_\\Theta\\left(x^{(i)}\\right)-y^{(i)} \\right) x^{(i)}, & \\text{se}\\ j>0\n",
    "  \\end{array}\\right.\n",
    "$$"
   ]
  },
  {
   "cell_type": "code",
   "execution_count": null,
   "metadata": {},
   "outputs": [],
   "source": [
    "def gradienteDescente(X, Y, theta, alpha, num_iter):\n",
    "    \"\"\"\n",
    "    Executa o gradiente descente para otimizar os parâmetros theta. \n",
    "    \n",
    "    Atualiza theta usando num_iter passos do gradiente com taxa de aprendizado alpha.\n",
    "    \"\"\"\n",
    "\n",
    "    # Initializa algumas variaveis uteis\n",
    "    m = len(Y) # numero de exemplos de treinamento\n",
    "    J_historico = np.zeros(num_iter) #vetor para armazenar o valor de J em cada iteracao do gradiente\n",
    "\n",
    "    for it in range(num_iter):\n",
    "    \n",
    "        ########################## COMPLETE O CÓDIGO AQUI  ########################\n",
    "        # Instrucoes: Execute um unico passo do gradiente para ajustar o vetor\n",
    "        #             theta. \n",
    "        #\n",
    "        # Dica: para verificar se a o gradiente esta correto, verifique se a \n",
    "        #       funcao de custo (computarCusto) nunca aumenta de valor no \n",
    "        #       decorrer das iteracoes.\n",
    "        \n",
    "        \n",
    "        \n",
    "        \n",
    "        \n",
    "        \n",
    "        \n",
    "        \n",
    "        \n",
    "        \n",
    "        \n",
    "        \n",
    "        \n",
    "        \n",
    "        \n",
    "        \n",
    "        \n",
    "        \n",
    "        \n",
    "        \n",
    "        \n",
    "        \n",
    "        ##########################################################################   \n",
    "        \n",
    "        # Armazena o custo J obtido em cada iteracao do gradiente   \n",
    "        J_historico[it] = computarCusto(X, Y, theta)\n",
    "        \n",
    "    return theta, J_historico\n",
    "\n",
    "\n",
    "# chama o metodo do gradiente descente\n",
    "theta = np.zeros(2) #Inicializa parâmetros que serao ajustados\n",
    "theta, J_historico = gradienteDescente(X, Y, theta, alpha, iteracoes)\n",
    "\n",
    "# imprime o valor de Theta\n",
    "print('Theta encontrado pelo gradiente descendente: %f %f.\\n' %(theta[0], theta[1]))"
   ]
  },
  {
   "cell_type": "markdown",
   "metadata": {},
   "source": [
    "Se o gradiente descente estiver correto, os valores esperados são, aproximadamente: $\\theta_0 = -3.630$ e $\\theta_1 = 1.166$\n",
    "\n",
    "A seguir, o regressor linear será plotado."
   ]
  },
  {
   "cell_type": "code",
   "execution_count": null,
   "metadata": {},
   "outputs": [],
   "source": [
    "# plota os dados de treinamento\n",
    "plotarDados(X[:,1],Y)\n",
    "\n",
    "# plota os dados\n",
    "plt.plot(X[:,1], np.dot(X,theta), label = 'Regressor Linear', color='red', linestyle='-', linewidth=1.5) \n",
    "\n",
    "# Plota a legenda\n",
    "plt.legend()\n",
    "\n",
    "plt.show()"
   ]
  },
  {
   "cell_type": "markdown",
   "metadata": {},
   "source": [
    "Abaixo, o gráfico de convergência do gradiente descente será exibido."
   ]
  },
  {
   "cell_type": "code",
   "execution_count": null,
   "metadata": {},
   "outputs": [],
   "source": [
    "#definindo o tamanho da figura \n",
    "plt.figure(figsize=(10,6))\n",
    "\n",
    "# plota os dados\n",
    "plt.plot(J_historico, color='blue', linestyle='-', linewidth=1.5) \n",
    "\n",
    "# define os nomes do eixo x e do eixo y\n",
    "plt.xlabel(r'# Iterações',fontsize='medium') \n",
    "plt.ylabel(r'Custo (J)',fontsize='medium') \n",
    "\n",
    "#define o título do gráfico\n",
    "plt.title(r'Convergência do Gradiente Descendente', fontsize='x-large')\n",
    "\n",
    "#acrescenta um grid no gráfico\n",
    "plt.grid(axis='both')\n",
    "\n",
    "plt.show()"
   ]
  },
  {
   "cell_type": "markdown",
   "metadata": {},
   "source": [
    "Observe que o Custo ($J$) converge aproximadamente após 1.200 iterações e nunca aumenta com o decorrer das iterações. Se o Custo estiver aumentando, certamente o gradiente descendente não foi implementado corretamente.\n",
    "\n",
    "Abaixo, são realizadas predições de resultados orçamentários para cidades com populações de 40.000 e 80.000 habitantes, respectivamente."
   ]
  },
  {
   "cell_type": "code",
   "execution_count": null,
   "metadata": {},
   "outputs": [],
   "source": [
    "predict1 = np.dot( np.array([1, 4]),theta )\n",
    "print('Para uma cidade com 40.000 habitantes, o resultado orçamentário previsto é de R$ %0.2f.\\n' %(predict1*100000))\n",
    "\n",
    "predict2 = np.dot( np.array([1, 8]),theta )\n",
    "print('Para uma cidade com 80.000 habitantes, o resultado orçamentário previsto é de R$ %0.2f.\\n' %(predict2*100000))"
   ]
  },
  {
   "cell_type": "markdown",
   "metadata": {},
   "source": [
    "## Parte 3: Visualizando J($\\theta_0$, $\\theta_1$)\n",
    "\n",
    "Primeiro, vamos plotar a superfície da função de custo ($J$)."
   ]
  },
  {
   "cell_type": "code",
   "execution_count": null,
   "metadata": {},
   "outputs": [],
   "source": [
    "# Grade sobre a qual J sera calculado\n",
    "theta0_vals = np.linspace(-10, 10, 100)\n",
    "theta1_vals = np.linspace(-1, 4, 100)\n",
    "\n",
    "# cria um grid de valores a partir de theta0_vals e theta1_vals\n",
    "theta0_vals, theta1_vals = np.meshgrid(theta0_vals, theta1_vals)\n",
    "\n",
    "# calcula o custo J a partir dos valores de theta0_vals e theta1_vals\n",
    "J_vals = np.array([computarCusto(X,Y,np.array([th0, th1])) for th0,th1 in zip(np.ravel(theta0_vals), np.ravel(theta1_vals))])\n",
    "J_vals = J_vals.reshape(theta0_vals.shape)\n",
    "\n",
    "# importa algumas biblioteca para plotar dados em 3D        \n",
    "from mpl_toolkits.mplot3d import Axes3D\n",
    "from matplotlib.patches import Rectangle\n",
    "from pylab import *\n",
    "\n",
    "#cria uma figura para adicionar o gráfico\n",
    "#fig = plt.figure(figsize=(10,6))\n",
    "fig = plt.figure(figsize=(10,6))\n",
    "ax = fig.add_subplot(111, projection='3d')\n",
    "\n",
    "# plota a superfície\n",
    "ax.plot_surface(theta0_vals, theta1_vals, J_vals, rstride=1, cstride=1, cmap='viridis', linewidth=0, antialiased=True, edgecolor='none')\n",
    "\n",
    "# define o limite de valores mostrado no eixo z\n",
    "ax.set_zlim(-1.01, 800)\n",
    "\n",
    "# imprimi os labels dos rótulos x, y e z gráfico\n",
    "ax.set_xlabel(r'$\\theta_0$') \n",
    "ax.set_ylabel(r'$\\theta_1$')\n",
    "ax.set_zlabel(r'Custo (J)')\n",
    "\n",
    "# posição do gráfico\n",
    "#ax.view_init(45, 90)\n",
    "\n",
    "plt.show()"
   ]
  },
  {
   "cell_type": "markdown",
   "metadata": {},
   "source": [
    "Em seguida, vamos plotar as curvas de nível para visualizar o ponto ótimo global encontrado ($\\theta_0$, $\\theta_1$) pelo gradiente descendente."
   ]
  },
  {
   "cell_type": "code",
   "execution_count": null,
   "metadata": {},
   "outputs": [],
   "source": [
    "# importa algumas biblioteca para plotar dados em 3D        \n",
    "from mpl_toolkits.mplot3d import Axes3D\n",
    "from matplotlib.patches import Rectangle\n",
    "from pylab import *\n",
    "\n",
    "#cria uma figura para adicionar o gráfico\n",
    "fig = plt.figure(figsize=(10,6))\n",
    "\n",
    "#plota as curvas de nível\n",
    "plt.contour(theta0_vals, theta1_vals, J_vals, 80, cmap='viridis')\n",
    "\n",
    "# define os nomes do eixo x e do eixo y\n",
    "plt.xlabel(r'$\\theta_0$',fontsize='medium') \n",
    "plt.ylabel(r'$\\theta_1$',fontsize='medium') \n",
    "\n",
    "# plota os thetas otimos\n",
    "plt.scatter(theta[0], theta[1], marker='x', color='blue', s=90)\n",
    "\n",
    "plt.show()"
   ]
  },
  {
   "cell_type": "markdown",
   "metadata": {},
   "source": [
    "## Parte 4: Predizendo o atributo-alvo ($y$) para novos dados ($x$)\n",
    "\n",
    "Abaixo, você poderá realizar a predição para novos dados."
   ]
  },
  {
   "cell_type": "code",
   "execution_count": null,
   "metadata": {},
   "outputs": [],
   "source": [
    "# Altere o valor abaixo para fazer a predição de novos dados. \n",
    "# Lembre-se que para uma cidade com 80.000 habitantes, popSize deverá ser igual a 8.\n",
    "popSize = 8 # tamanho da população\n",
    "\n",
    "# Realiza a predição\n",
    "predict1 = np.dot( np.array([1, popSize]),theta ) \n",
    "print('Para uma cidade com %d habitantes, o resultado orcamentario previsto é de R$ %0.2f.\\n' %(popSize*10000, predict1*100000))\n"
   ]
  }
 ],
 "metadata": {
  "kernelspec": {
   "display_name": "Python 3 (ipykernel)",
   "language": "python",
   "name": "python3"
  },
  "language_info": {
   "codemirror_mode": {
    "name": "ipython",
    "version": 3
   },
   "file_extension": ".py",
   "mimetype": "text/x-python",
   "name": "python",
   "nbconvert_exporter": "python",
   "pygments_lexer": "ipython3",
   "version": "3.9.12"
  }
 },
 "nbformat": 4,
 "nbformat_minor": 4
}
